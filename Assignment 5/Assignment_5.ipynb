{
  "nbformat": 4,
  "nbformat_minor": 0,
  "metadata": {
    "colab": {
      "name": "Assignment_5.ipynb",
      "provenance": [],
      "collapsed_sections": []
    },
    "kernelspec": {
      "name": "python3",
      "display_name": "Python 3"
    },
    "accelerator": "GPU"
  },
  "cells": [
    {
      "cell_type": "code",
      "metadata": {
        "id": "hlyB-RwO5nie",
        "colab_type": "code",
        "colab": {}
      },
      "source": [
        "import pandas as pd\n",
        "import numpy as np\n",
        "from sklearn.linear_model import LogisticRegression\n",
        "from sklearn.model_selection import train_test_split\n",
        "from sklearn.naive_bayes import MultinomialNB\n",
        "from sklearn.svm import SVC\n",
        "from sklearn.tree import DecisionTreeClassifier\n",
        "from sklearn.neighbors import KNeighborsClassifier\n",
        "from sklearn.metrics import (accuracy_score,confusion_matrix,classification_report)\n",
        "import warnings\n",
        "warnings.filterwarnings('ignore')"
      ],
      "execution_count": 1,
      "outputs": []
    },
    {
      "cell_type": "code",
      "metadata": {
        "id": "k4SVLslngBCc",
        "colab_type": "code",
        "colab": {
          "base_uri": "https://localhost:8080/",
          "height": 122
        },
        "outputId": "4d4d90fb-b475-4bd4-e49e-f01bc3e4dc8c"
      },
      "source": [
        "from google.colab import drive\n",
        "drive.mount('/content/gdrive')"
      ],
      "execution_count": null,
      "outputs": [
        {
          "output_type": "stream",
          "text": [
            "Go to this URL in a browser: https://accounts.google.com/o/oauth2/auth?client_id=947318989803-6bn6qk8qdgf4n4g3pfee6491hc0brc4i.apps.googleusercontent.com&redirect_uri=urn%3aietf%3awg%3aoauth%3a2.0%3aoob&response_type=code&scope=email%20https%3a%2f%2fwww.googleapis.com%2fauth%2fdocs.test%20https%3a%2f%2fwww.googleapis.com%2fauth%2fdrive%20https%3a%2f%2fwww.googleapis.com%2fauth%2fdrive.photos.readonly%20https%3a%2f%2fwww.googleapis.com%2fauth%2fpeopleapi.readonly\n",
            "\n",
            "Enter your authorization code:\n",
            "··········\n",
            "Mounted at /content/gdrive\n"
          ],
          "name": "stdout"
        }
      ]
    },
    {
      "cell_type": "code",
      "metadata": {
        "id": "KHQ2qerXEQcN",
        "colab_type": "code",
        "colab": {
          "base_uri": "https://localhost:8080/",
          "height": 419
        },
        "outputId": "7299ab85-152a-42a1-db61-fc371a5b383c"
      },
      "source": [
        "data=pd.read_csv(r'/content/drive/My Drive/Colab Notebooks/Fliprobo assignment_5/cardio_train.csv',sep=';')\n",
        "data"
      ],
      "execution_count": 71,
      "outputs": [
        {
          "output_type": "execute_result",
          "data": {
            "text/html": [
              "<div>\n",
              "<style scoped>\n",
              "    .dataframe tbody tr th:only-of-type {\n",
              "        vertical-align: middle;\n",
              "    }\n",
              "\n",
              "    .dataframe tbody tr th {\n",
              "        vertical-align: top;\n",
              "    }\n",
              "\n",
              "    .dataframe thead th {\n",
              "        text-align: right;\n",
              "    }\n",
              "</style>\n",
              "<table border=\"1\" class=\"dataframe\">\n",
              "  <thead>\n",
              "    <tr style=\"text-align: right;\">\n",
              "      <th></th>\n",
              "      <th>id</th>\n",
              "      <th>age</th>\n",
              "      <th>gender</th>\n",
              "      <th>height</th>\n",
              "      <th>weight</th>\n",
              "      <th>ap_hi</th>\n",
              "      <th>ap_lo</th>\n",
              "      <th>cholesterol</th>\n",
              "      <th>gluc</th>\n",
              "      <th>smoke</th>\n",
              "      <th>alco</th>\n",
              "      <th>active</th>\n",
              "      <th>cardio</th>\n",
              "    </tr>\n",
              "  </thead>\n",
              "  <tbody>\n",
              "    <tr>\n",
              "      <th>0</th>\n",
              "      <td>988</td>\n",
              "      <td>22469</td>\n",
              "      <td>1</td>\n",
              "      <td>155</td>\n",
              "      <td>69.0</td>\n",
              "      <td>130</td>\n",
              "      <td>80</td>\n",
              "      <td>2</td>\n",
              "      <td>2</td>\n",
              "      <td>0</td>\n",
              "      <td>0</td>\n",
              "      <td>1</td>\n",
              "      <td>0</td>\n",
              "    </tr>\n",
              "    <tr>\n",
              "      <th>1</th>\n",
              "      <td>989</td>\n",
              "      <td>14648</td>\n",
              "      <td>1</td>\n",
              "      <td>163</td>\n",
              "      <td>71.0</td>\n",
              "      <td>110</td>\n",
              "      <td>70</td>\n",
              "      <td>1</td>\n",
              "      <td>1</td>\n",
              "      <td>0</td>\n",
              "      <td>0</td>\n",
              "      <td>1</td>\n",
              "      <td>1</td>\n",
              "    </tr>\n",
              "    <tr>\n",
              "      <th>2</th>\n",
              "      <td>990</td>\n",
              "      <td>21901</td>\n",
              "      <td>1</td>\n",
              "      <td>165</td>\n",
              "      <td>70.0</td>\n",
              "      <td>120</td>\n",
              "      <td>80</td>\n",
              "      <td>1</td>\n",
              "      <td>1</td>\n",
              "      <td>0</td>\n",
              "      <td>0</td>\n",
              "      <td>1</td>\n",
              "      <td>0</td>\n",
              "    </tr>\n",
              "    <tr>\n",
              "      <th>3</th>\n",
              "      <td>991</td>\n",
              "      <td>14549</td>\n",
              "      <td>2</td>\n",
              "      <td>165</td>\n",
              "      <td>85.0</td>\n",
              "      <td>120</td>\n",
              "      <td>80</td>\n",
              "      <td>1</td>\n",
              "      <td>1</td>\n",
              "      <td>1</td>\n",
              "      <td>1</td>\n",
              "      <td>1</td>\n",
              "      <td>0</td>\n",
              "    </tr>\n",
              "    <tr>\n",
              "      <th>4</th>\n",
              "      <td>992</td>\n",
              "      <td>23393</td>\n",
              "      <td>1</td>\n",
              "      <td>155</td>\n",
              "      <td>62.0</td>\n",
              "      <td>120</td>\n",
              "      <td>80</td>\n",
              "      <td>1</td>\n",
              "      <td>1</td>\n",
              "      <td>0</td>\n",
              "      <td>0</td>\n",
              "      <td>1</td>\n",
              "      <td>0</td>\n",
              "    </tr>\n",
              "    <tr>\n",
              "      <th>...</th>\n",
              "      <td>...</td>\n",
              "      <td>...</td>\n",
              "      <td>...</td>\n",
              "      <td>...</td>\n",
              "      <td>...</td>\n",
              "      <td>...</td>\n",
              "      <td>...</td>\n",
              "      <td>...</td>\n",
              "      <td>...</td>\n",
              "      <td>...</td>\n",
              "      <td>...</td>\n",
              "      <td>...</td>\n",
              "      <td>...</td>\n",
              "    </tr>\n",
              "    <tr>\n",
              "      <th>69296</th>\n",
              "      <td>99993</td>\n",
              "      <td>19240</td>\n",
              "      <td>2</td>\n",
              "      <td>168</td>\n",
              "      <td>76.0</td>\n",
              "      <td>120</td>\n",
              "      <td>80</td>\n",
              "      <td>1</td>\n",
              "      <td>1</td>\n",
              "      <td>1</td>\n",
              "      <td>0</td>\n",
              "      <td>1</td>\n",
              "      <td>0</td>\n",
              "    </tr>\n",
              "    <tr>\n",
              "      <th>69297</th>\n",
              "      <td>99995</td>\n",
              "      <td>22601</td>\n",
              "      <td>1</td>\n",
              "      <td>158</td>\n",
              "      <td>126.0</td>\n",
              "      <td>140</td>\n",
              "      <td>90</td>\n",
              "      <td>2</td>\n",
              "      <td>2</td>\n",
              "      <td>0</td>\n",
              "      <td>0</td>\n",
              "      <td>1</td>\n",
              "      <td>1</td>\n",
              "    </tr>\n",
              "    <tr>\n",
              "      <th>69298</th>\n",
              "      <td>99996</td>\n",
              "      <td>19066</td>\n",
              "      <td>2</td>\n",
              "      <td>183</td>\n",
              "      <td>105.0</td>\n",
              "      <td>180</td>\n",
              "      <td>90</td>\n",
              "      <td>3</td>\n",
              "      <td>1</td>\n",
              "      <td>0</td>\n",
              "      <td>1</td>\n",
              "      <td>0</td>\n",
              "      <td>1</td>\n",
              "    </tr>\n",
              "    <tr>\n",
              "      <th>69299</th>\n",
              "      <td>99998</td>\n",
              "      <td>22431</td>\n",
              "      <td>1</td>\n",
              "      <td>163</td>\n",
              "      <td>72.0</td>\n",
              "      <td>135</td>\n",
              "      <td>80</td>\n",
              "      <td>1</td>\n",
              "      <td>2</td>\n",
              "      <td>0</td>\n",
              "      <td>0</td>\n",
              "      <td>0</td>\n",
              "      <td>1</td>\n",
              "    </tr>\n",
              "    <tr>\n",
              "      <th>69300</th>\n",
              "      <td>99999</td>\n",
              "      <td>20540</td>\n",
              "      <td>1</td>\n",
              "      <td>170</td>\n",
              "      <td>72.0</td>\n",
              "      <td>120</td>\n",
              "      <td>80</td>\n",
              "      <td>2</td>\n",
              "      <td>1</td>\n",
              "      <td>0</td>\n",
              "      <td>0</td>\n",
              "      <td>1</td>\n",
              "      <td>0</td>\n",
              "    </tr>\n",
              "  </tbody>\n",
              "</table>\n",
              "<p>69301 rows × 13 columns</p>\n",
              "</div>"
            ],
            "text/plain": [
              "          id    age  gender  height  weight  ...  gluc  smoke  alco  active  cardio\n",
              "0        988  22469       1     155    69.0  ...     2      0     0       1       0\n",
              "1        989  14648       1     163    71.0  ...     1      0     0       1       1\n",
              "2        990  21901       1     165    70.0  ...     1      0     0       1       0\n",
              "3        991  14549       2     165    85.0  ...     1      1     1       1       0\n",
              "4        992  23393       1     155    62.0  ...     1      0     0       1       0\n",
              "...      ...    ...     ...     ...     ...  ...   ...    ...   ...     ...     ...\n",
              "69296  99993  19240       2     168    76.0  ...     1      1     0       1       0\n",
              "69297  99995  22601       1     158   126.0  ...     2      0     0       1       1\n",
              "69298  99996  19066       2     183   105.0  ...     1      0     1       0       1\n",
              "69299  99998  22431       1     163    72.0  ...     2      0     0       0       1\n",
              "69300  99999  20540       1     170    72.0  ...     1      0     0       1       0\n",
              "\n",
              "[69301 rows x 13 columns]"
            ]
          },
          "metadata": {
            "tags": []
          },
          "execution_count": 71
        }
      ]
    },
    {
      "cell_type": "code",
      "metadata": {
        "id": "FKksXvzAe0h4",
        "colab_type": "code",
        "colab": {
          "base_uri": "https://localhost:8080/",
          "height": 34
        },
        "outputId": "06351a88-9fd7-484d-e9c0-d57ab8c19703"
      },
      "source": [
        "data.shape"
      ],
      "execution_count": null,
      "outputs": [
        {
          "output_type": "execute_result",
          "data": {
            "text/plain": [
              "(69301, 13)"
            ]
          },
          "metadata": {
            "tags": []
          },
          "execution_count": 6
        }
      ]
    },
    {
      "cell_type": "code",
      "metadata": {
        "id": "AoRW1hApfKdw",
        "colab_type": "code",
        "colab": {
          "base_uri": "https://localhost:8080/",
          "height": 68
        },
        "outputId": "941e5507-dd74-4db2-8528-9801d9d8e7a2"
      },
      "source": [
        "data.columns"
      ],
      "execution_count": null,
      "outputs": [
        {
          "output_type": "execute_result",
          "data": {
            "text/plain": [
              "Index(['id', 'age', 'gender', 'height', 'weight', 'ap_hi', 'ap_lo',\n",
              "       'cholesterol', 'gluc', 'smoke', 'alco', 'active', 'cardio'],\n",
              "      dtype='object')"
            ]
          },
          "metadata": {
            "tags": []
          },
          "execution_count": 7
        }
      ]
    },
    {
      "cell_type": "code",
      "metadata": {
        "id": "PnTZ9q18fNFm",
        "colab_type": "code",
        "colab": {}
      },
      "source": [
        "data['age']=data['age']/365"
      ],
      "execution_count": 72,
      "outputs": []
    },
    {
      "cell_type": "code",
      "metadata": {
        "id": "5PqfBsGcfyW1",
        "colab_type": "code",
        "colab": {
          "base_uri": "https://localhost:8080/",
          "height": 419
        },
        "outputId": "18c0f961-c804-4491-b0a6-c1d5b27b44fb"
      },
      "source": [
        "data"
      ],
      "execution_count": 73,
      "outputs": [
        {
          "output_type": "execute_result",
          "data": {
            "text/html": [
              "<div>\n",
              "<style scoped>\n",
              "    .dataframe tbody tr th:only-of-type {\n",
              "        vertical-align: middle;\n",
              "    }\n",
              "\n",
              "    .dataframe tbody tr th {\n",
              "        vertical-align: top;\n",
              "    }\n",
              "\n",
              "    .dataframe thead th {\n",
              "        text-align: right;\n",
              "    }\n",
              "</style>\n",
              "<table border=\"1\" class=\"dataframe\">\n",
              "  <thead>\n",
              "    <tr style=\"text-align: right;\">\n",
              "      <th></th>\n",
              "      <th>id</th>\n",
              "      <th>age</th>\n",
              "      <th>gender</th>\n",
              "      <th>height</th>\n",
              "      <th>weight</th>\n",
              "      <th>ap_hi</th>\n",
              "      <th>ap_lo</th>\n",
              "      <th>cholesterol</th>\n",
              "      <th>gluc</th>\n",
              "      <th>smoke</th>\n",
              "      <th>alco</th>\n",
              "      <th>active</th>\n",
              "      <th>cardio</th>\n",
              "    </tr>\n",
              "  </thead>\n",
              "  <tbody>\n",
              "    <tr>\n",
              "      <th>0</th>\n",
              "      <td>988</td>\n",
              "      <td>61.558904</td>\n",
              "      <td>1</td>\n",
              "      <td>155</td>\n",
              "      <td>69.0</td>\n",
              "      <td>130</td>\n",
              "      <td>80</td>\n",
              "      <td>2</td>\n",
              "      <td>2</td>\n",
              "      <td>0</td>\n",
              "      <td>0</td>\n",
              "      <td>1</td>\n",
              "      <td>0</td>\n",
              "    </tr>\n",
              "    <tr>\n",
              "      <th>1</th>\n",
              "      <td>989</td>\n",
              "      <td>40.131507</td>\n",
              "      <td>1</td>\n",
              "      <td>163</td>\n",
              "      <td>71.0</td>\n",
              "      <td>110</td>\n",
              "      <td>70</td>\n",
              "      <td>1</td>\n",
              "      <td>1</td>\n",
              "      <td>0</td>\n",
              "      <td>0</td>\n",
              "      <td>1</td>\n",
              "      <td>1</td>\n",
              "    </tr>\n",
              "    <tr>\n",
              "      <th>2</th>\n",
              "      <td>990</td>\n",
              "      <td>60.002740</td>\n",
              "      <td>1</td>\n",
              "      <td>165</td>\n",
              "      <td>70.0</td>\n",
              "      <td>120</td>\n",
              "      <td>80</td>\n",
              "      <td>1</td>\n",
              "      <td>1</td>\n",
              "      <td>0</td>\n",
              "      <td>0</td>\n",
              "      <td>1</td>\n",
              "      <td>0</td>\n",
              "    </tr>\n",
              "    <tr>\n",
              "      <th>3</th>\n",
              "      <td>991</td>\n",
              "      <td>39.860274</td>\n",
              "      <td>2</td>\n",
              "      <td>165</td>\n",
              "      <td>85.0</td>\n",
              "      <td>120</td>\n",
              "      <td>80</td>\n",
              "      <td>1</td>\n",
              "      <td>1</td>\n",
              "      <td>1</td>\n",
              "      <td>1</td>\n",
              "      <td>1</td>\n",
              "      <td>0</td>\n",
              "    </tr>\n",
              "    <tr>\n",
              "      <th>4</th>\n",
              "      <td>992</td>\n",
              "      <td>64.090411</td>\n",
              "      <td>1</td>\n",
              "      <td>155</td>\n",
              "      <td>62.0</td>\n",
              "      <td>120</td>\n",
              "      <td>80</td>\n",
              "      <td>1</td>\n",
              "      <td>1</td>\n",
              "      <td>0</td>\n",
              "      <td>0</td>\n",
              "      <td>1</td>\n",
              "      <td>0</td>\n",
              "    </tr>\n",
              "    <tr>\n",
              "      <th>...</th>\n",
              "      <td>...</td>\n",
              "      <td>...</td>\n",
              "      <td>...</td>\n",
              "      <td>...</td>\n",
              "      <td>...</td>\n",
              "      <td>...</td>\n",
              "      <td>...</td>\n",
              "      <td>...</td>\n",
              "      <td>...</td>\n",
              "      <td>...</td>\n",
              "      <td>...</td>\n",
              "      <td>...</td>\n",
              "      <td>...</td>\n",
              "    </tr>\n",
              "    <tr>\n",
              "      <th>69296</th>\n",
              "      <td>99993</td>\n",
              "      <td>52.712329</td>\n",
              "      <td>2</td>\n",
              "      <td>168</td>\n",
              "      <td>76.0</td>\n",
              "      <td>120</td>\n",
              "      <td>80</td>\n",
              "      <td>1</td>\n",
              "      <td>1</td>\n",
              "      <td>1</td>\n",
              "      <td>0</td>\n",
              "      <td>1</td>\n",
              "      <td>0</td>\n",
              "    </tr>\n",
              "    <tr>\n",
              "      <th>69297</th>\n",
              "      <td>99995</td>\n",
              "      <td>61.920548</td>\n",
              "      <td>1</td>\n",
              "      <td>158</td>\n",
              "      <td>126.0</td>\n",
              "      <td>140</td>\n",
              "      <td>90</td>\n",
              "      <td>2</td>\n",
              "      <td>2</td>\n",
              "      <td>0</td>\n",
              "      <td>0</td>\n",
              "      <td>1</td>\n",
              "      <td>1</td>\n",
              "    </tr>\n",
              "    <tr>\n",
              "      <th>69298</th>\n",
              "      <td>99996</td>\n",
              "      <td>52.235616</td>\n",
              "      <td>2</td>\n",
              "      <td>183</td>\n",
              "      <td>105.0</td>\n",
              "      <td>180</td>\n",
              "      <td>90</td>\n",
              "      <td>3</td>\n",
              "      <td>1</td>\n",
              "      <td>0</td>\n",
              "      <td>1</td>\n",
              "      <td>0</td>\n",
              "      <td>1</td>\n",
              "    </tr>\n",
              "    <tr>\n",
              "      <th>69299</th>\n",
              "      <td>99998</td>\n",
              "      <td>61.454795</td>\n",
              "      <td>1</td>\n",
              "      <td>163</td>\n",
              "      <td>72.0</td>\n",
              "      <td>135</td>\n",
              "      <td>80</td>\n",
              "      <td>1</td>\n",
              "      <td>2</td>\n",
              "      <td>0</td>\n",
              "      <td>0</td>\n",
              "      <td>0</td>\n",
              "      <td>1</td>\n",
              "    </tr>\n",
              "    <tr>\n",
              "      <th>69300</th>\n",
              "      <td>99999</td>\n",
              "      <td>56.273973</td>\n",
              "      <td>1</td>\n",
              "      <td>170</td>\n",
              "      <td>72.0</td>\n",
              "      <td>120</td>\n",
              "      <td>80</td>\n",
              "      <td>2</td>\n",
              "      <td>1</td>\n",
              "      <td>0</td>\n",
              "      <td>0</td>\n",
              "      <td>1</td>\n",
              "      <td>0</td>\n",
              "    </tr>\n",
              "  </tbody>\n",
              "</table>\n",
              "<p>69301 rows × 13 columns</p>\n",
              "</div>"
            ],
            "text/plain": [
              "          id        age  gender  height  ...  smoke  alco  active  cardio\n",
              "0        988  61.558904       1     155  ...      0     0       1       0\n",
              "1        989  40.131507       1     163  ...      0     0       1       1\n",
              "2        990  60.002740       1     165  ...      0     0       1       0\n",
              "3        991  39.860274       2     165  ...      1     1       1       0\n",
              "4        992  64.090411       1     155  ...      0     0       1       0\n",
              "...      ...        ...     ...     ...  ...    ...   ...     ...     ...\n",
              "69296  99993  52.712329       2     168  ...      1     0       1       0\n",
              "69297  99995  61.920548       1     158  ...      0     0       1       1\n",
              "69298  99996  52.235616       2     183  ...      0     1       0       1\n",
              "69299  99998  61.454795       1     163  ...      0     0       0       1\n",
              "69300  99999  56.273973       1     170  ...      0     0       1       0\n",
              "\n",
              "[69301 rows x 13 columns]"
            ]
          },
          "metadata": {
            "tags": []
          },
          "execution_count": 73
        }
      ]
    },
    {
      "cell_type": "code",
      "metadata": {
        "id": "SB5xIdEKf0No",
        "colab_type": "code",
        "colab": {
          "base_uri": "https://localhost:8080/",
          "height": 204
        },
        "outputId": "4e018c06-607e-460a-84b5-f93a21e2b432"
      },
      "source": [
        "data.head()"
      ],
      "execution_count": null,
      "outputs": [
        {
          "output_type": "execute_result",
          "data": {
            "text/html": [
              "<div>\n",
              "<style scoped>\n",
              "    .dataframe tbody tr th:only-of-type {\n",
              "        vertical-align: middle;\n",
              "    }\n",
              "\n",
              "    .dataframe tbody tr th {\n",
              "        vertical-align: top;\n",
              "    }\n",
              "\n",
              "    .dataframe thead th {\n",
              "        text-align: right;\n",
              "    }\n",
              "</style>\n",
              "<table border=\"1\" class=\"dataframe\">\n",
              "  <thead>\n",
              "    <tr style=\"text-align: right;\">\n",
              "      <th></th>\n",
              "      <th>id</th>\n",
              "      <th>age</th>\n",
              "      <th>gender</th>\n",
              "      <th>height</th>\n",
              "      <th>weight</th>\n",
              "      <th>ap_hi</th>\n",
              "      <th>ap_lo</th>\n",
              "      <th>cholesterol</th>\n",
              "      <th>gluc</th>\n",
              "      <th>smoke</th>\n",
              "      <th>alco</th>\n",
              "      <th>active</th>\n",
              "      <th>cardio</th>\n",
              "    </tr>\n",
              "  </thead>\n",
              "  <tbody>\n",
              "    <tr>\n",
              "      <th>0</th>\n",
              "      <td>988</td>\n",
              "      <td>61.558904</td>\n",
              "      <td>1</td>\n",
              "      <td>155</td>\n",
              "      <td>69.0</td>\n",
              "      <td>130</td>\n",
              "      <td>80</td>\n",
              "      <td>2</td>\n",
              "      <td>2</td>\n",
              "      <td>0</td>\n",
              "      <td>0</td>\n",
              "      <td>1</td>\n",
              "      <td>0</td>\n",
              "    </tr>\n",
              "    <tr>\n",
              "      <th>1</th>\n",
              "      <td>989</td>\n",
              "      <td>40.131507</td>\n",
              "      <td>1</td>\n",
              "      <td>163</td>\n",
              "      <td>71.0</td>\n",
              "      <td>110</td>\n",
              "      <td>70</td>\n",
              "      <td>1</td>\n",
              "      <td>1</td>\n",
              "      <td>0</td>\n",
              "      <td>0</td>\n",
              "      <td>1</td>\n",
              "      <td>1</td>\n",
              "    </tr>\n",
              "    <tr>\n",
              "      <th>2</th>\n",
              "      <td>990</td>\n",
              "      <td>60.002740</td>\n",
              "      <td>1</td>\n",
              "      <td>165</td>\n",
              "      <td>70.0</td>\n",
              "      <td>120</td>\n",
              "      <td>80</td>\n",
              "      <td>1</td>\n",
              "      <td>1</td>\n",
              "      <td>0</td>\n",
              "      <td>0</td>\n",
              "      <td>1</td>\n",
              "      <td>0</td>\n",
              "    </tr>\n",
              "    <tr>\n",
              "      <th>3</th>\n",
              "      <td>991</td>\n",
              "      <td>39.860274</td>\n",
              "      <td>2</td>\n",
              "      <td>165</td>\n",
              "      <td>85.0</td>\n",
              "      <td>120</td>\n",
              "      <td>80</td>\n",
              "      <td>1</td>\n",
              "      <td>1</td>\n",
              "      <td>1</td>\n",
              "      <td>1</td>\n",
              "      <td>1</td>\n",
              "      <td>0</td>\n",
              "    </tr>\n",
              "    <tr>\n",
              "      <th>4</th>\n",
              "      <td>992</td>\n",
              "      <td>64.090411</td>\n",
              "      <td>1</td>\n",
              "      <td>155</td>\n",
              "      <td>62.0</td>\n",
              "      <td>120</td>\n",
              "      <td>80</td>\n",
              "      <td>1</td>\n",
              "      <td>1</td>\n",
              "      <td>0</td>\n",
              "      <td>0</td>\n",
              "      <td>1</td>\n",
              "      <td>0</td>\n",
              "    </tr>\n",
              "  </tbody>\n",
              "</table>\n",
              "</div>"
            ],
            "text/plain": [
              "    id        age  gender  height  weight  ...  gluc  smoke  alco  active  cardio\n",
              "0  988  61.558904       1     155    69.0  ...     2      0     0       1       0\n",
              "1  989  40.131507       1     163    71.0  ...     1      0     0       1       1\n",
              "2  990  60.002740       1     165    70.0  ...     1      0     0       1       0\n",
              "3  991  39.860274       2     165    85.0  ...     1      1     1       1       0\n",
              "4  992  64.090411       1     155    62.0  ...     1      0     0       1       0\n",
              "\n",
              "[5 rows x 13 columns]"
            ]
          },
          "metadata": {
            "tags": []
          },
          "execution_count": 8
        }
      ]
    },
    {
      "cell_type": "code",
      "metadata": {
        "id": "zCZFt_69iucI",
        "colab_type": "code",
        "colab": {
          "base_uri": "https://localhost:8080/",
          "height": 255
        },
        "outputId": "793a74eb-3611-43c4-c774-6b558172c594"
      },
      "source": [
        "data.dtypes"
      ],
      "execution_count": null,
      "outputs": [
        {
          "output_type": "execute_result",
          "data": {
            "text/plain": [
              "id               int64\n",
              "age            float64\n",
              "gender           int64\n",
              "height           int64\n",
              "weight         float64\n",
              "ap_hi            int64\n",
              "ap_lo            int64\n",
              "cholesterol      int64\n",
              "gluc             int64\n",
              "smoke            int64\n",
              "alco             int64\n",
              "active           int64\n",
              "cardio           int64\n",
              "dtype: object"
            ]
          },
          "metadata": {
            "tags": []
          },
          "execution_count": 9
        }
      ]
    },
    {
      "cell_type": "code",
      "metadata": {
        "id": "f8AlmFS8kZI7",
        "colab_type": "code",
        "colab": {
          "base_uri": "https://localhost:8080/",
          "height": 255
        },
        "outputId": "6e1ee6f3-439d-41b3-c63e-4622d269f28e"
      },
      "source": [
        "data.isnull().sum()\n"
      ],
      "execution_count": null,
      "outputs": [
        {
          "output_type": "execute_result",
          "data": {
            "text/plain": [
              "id             0\n",
              "age            0\n",
              "gender         0\n",
              "height         0\n",
              "weight         0\n",
              "ap_hi          0\n",
              "ap_lo          0\n",
              "cholesterol    0\n",
              "gluc           0\n",
              "smoke          0\n",
              "alco           0\n",
              "active         0\n",
              "cardio         0\n",
              "dtype: int64"
            ]
          },
          "metadata": {
            "tags": []
          },
          "execution_count": 10
        }
      ]
    },
    {
      "cell_type": "code",
      "metadata": {
        "id": "go4Ha_oQQKOA",
        "colab_type": "code",
        "colab": {
          "base_uri": "https://localhost:8080/",
          "height": 331
        },
        "outputId": "8f598586-5923-452c-fffd-e8a6842574d8"
      },
      "source": [
        "import seaborn as sns\n",
        "sns.heatmap(data.isnull())"
      ],
      "execution_count": 5,
      "outputs": [
        {
          "output_type": "execute_result",
          "data": {
            "text/plain": [
              "<matplotlib.axes._subplots.AxesSubplot at 0x7f9ff95cbd68>"
            ]
          },
          "metadata": {
            "tags": []
          },
          "execution_count": 5
        },
        {
          "output_type": "display_data",
          "data": {
            "image/png": "[encoded data removed]",
            "text/plain": [
              "<Figure size 432x288 with 2 Axes>"
            ]
          },
          "metadata": {
            "tags": [],
            "needs_background": "light"
          }
        }
      ]
    },
    {
      "cell_type": "code",
      "metadata": {
        "id": "BMAq3RHOQspb",
        "colab_type": "code",
        "colab": {
          "base_uri": "https://localhost:8080/",
          "height": 34
        },
        "outputId": "8237afe9-0cea-47b0-a0dd-5b5fe32c7596"
      },
      "source": [
        "#counting target variables\n",
        "from collections import Counter\n",
        "Counter(data['cardio'])"
      ],
      "execution_count": 6,
      "outputs": [
        {
          "output_type": "execute_result",
          "data": {
            "text/plain": [
              "Counter({0: 34679, 1: 34622})"
            ]
          },
          "metadata": {
            "tags": []
          },
          "execution_count": 6
        }
      ]
    },
    {
      "cell_type": "code",
      "metadata": {
        "id": "J1KQe9xEQ4u0",
        "colab_type": "code",
        "colab": {
          "base_uri": "https://localhost:8080/",
          "height": 296
        },
        "outputId": "a41cc541-5334-47b7-f9ee-fd6f4958a246"
      },
      "source": [
        "#plotting target variables\n",
        "sns.countplot(x='cardio',data=data)"
      ],
      "execution_count": 7,
      "outputs": [
        {
          "output_type": "execute_result",
          "data": {
            "text/plain": [
              "<matplotlib.axes._subplots.AxesSubplot at 0x7f9ff9030828>"
            ]
          },
          "metadata": {
            "tags": []
          },
          "execution_count": 7
        },
        {
          "output_type": "display_data",
          "data": {
            "image/png": "[encoded data removed]",
            "text/plain": [
              "<Figure size 432x288 with 1 Axes>"
            ]
          },
          "metadata": {
            "tags": [],
            "needs_background": "light"
          }
        }
      ]
    },
    {
      "cell_type": "code",
      "metadata": {
        "id": "TFcRYgg_kezp",
        "colab_type": "code",
        "colab": {
          "base_uri": "https://localhost:8080/",
          "height": 317
        },
        "outputId": "54724970-2598-49f3-a548-dc119b83e6ab"
      },
      "source": [
        "data.describe()"
      ],
      "execution_count": 8,
      "outputs": [
        {
          "output_type": "execute_result",
          "data": {
            "text/html": [
              "<div>\n",
              "<style scoped>\n",
              "    .dataframe tbody tr th:only-of-type {\n",
              "        vertical-align: middle;\n",
              "    }\n",
              "\n",
              "    .dataframe tbody tr th {\n",
              "        vertical-align: top;\n",
              "    }\n",
              "\n",
              "    .dataframe thead th {\n",
              "        text-align: right;\n",
              "    }\n",
              "</style>\n",
              "<table border=\"1\" class=\"dataframe\">\n",
              "  <thead>\n",
              "    <tr style=\"text-align: right;\">\n",
              "      <th></th>\n",
              "      <th>id</th>\n",
              "      <th>age</th>\n",
              "      <th>gender</th>\n",
              "      <th>height</th>\n",
              "      <th>weight</th>\n",
              "      <th>ap_hi</th>\n",
              "      <th>ap_lo</th>\n",
              "      <th>cholesterol</th>\n",
              "      <th>gluc</th>\n",
              "      <th>smoke</th>\n",
              "      <th>alco</th>\n",
              "      <th>active</th>\n",
              "      <th>cardio</th>\n",
              "    </tr>\n",
              "  </thead>\n",
              "  <tbody>\n",
              "    <tr>\n",
              "      <th>count</th>\n",
              "      <td>69301.000000</td>\n",
              "      <td>69301.000000</td>\n",
              "      <td>69301.000000</td>\n",
              "      <td>69301.000000</td>\n",
              "      <td>69301.000000</td>\n",
              "      <td>69301.000000</td>\n",
              "      <td>69301.000000</td>\n",
              "      <td>69301.000000</td>\n",
              "      <td>69301.000000</td>\n",
              "      <td>69301.000000</td>\n",
              "      <td>69301.000000</td>\n",
              "      <td>69301.000000</td>\n",
              "      <td>69301.000000</td>\n",
              "    </tr>\n",
              "    <tr>\n",
              "      <th>mean</th>\n",
              "      <td>50471.480397</td>\n",
              "      <td>53.339140</td>\n",
              "      <td>1.349519</td>\n",
              "      <td>164.362217</td>\n",
              "      <td>74.203027</td>\n",
              "      <td>128.829584</td>\n",
              "      <td>96.650092</td>\n",
              "      <td>1.366806</td>\n",
              "      <td>1.226447</td>\n",
              "      <td>0.088051</td>\n",
              "      <td>0.053881</td>\n",
              "      <td>0.803986</td>\n",
              "      <td>0.499589</td>\n",
              "    </tr>\n",
              "    <tr>\n",
              "      <th>std</th>\n",
              "      <td>28563.100347</td>\n",
              "      <td>6.759621</td>\n",
              "      <td>0.476821</td>\n",
              "      <td>8.205337</td>\n",
              "      <td>14.383469</td>\n",
              "      <td>154.775805</td>\n",
              "      <td>189.096240</td>\n",
              "      <td>0.680270</td>\n",
              "      <td>0.572246</td>\n",
              "      <td>0.283371</td>\n",
              "      <td>0.225784</td>\n",
              "      <td>0.396982</td>\n",
              "      <td>0.500003</td>\n",
              "    </tr>\n",
              "    <tr>\n",
              "      <th>min</th>\n",
              "      <td>988.000000</td>\n",
              "      <td>29.583562</td>\n",
              "      <td>1.000000</td>\n",
              "      <td>55.000000</td>\n",
              "      <td>10.000000</td>\n",
              "      <td>-150.000000</td>\n",
              "      <td>-70.000000</td>\n",
              "      <td>1.000000</td>\n",
              "      <td>1.000000</td>\n",
              "      <td>0.000000</td>\n",
              "      <td>0.000000</td>\n",
              "      <td>0.000000</td>\n",
              "      <td>0.000000</td>\n",
              "    </tr>\n",
              "    <tr>\n",
              "      <th>25%</th>\n",
              "      <td>25745.000000</td>\n",
              "      <td>48.394521</td>\n",
              "      <td>1.000000</td>\n",
              "      <td>159.000000</td>\n",
              "      <td>65.000000</td>\n",
              "      <td>120.000000</td>\n",
              "      <td>80.000000</td>\n",
              "      <td>1.000000</td>\n",
              "      <td>1.000000</td>\n",
              "      <td>0.000000</td>\n",
              "      <td>0.000000</td>\n",
              "      <td>1.000000</td>\n",
              "      <td>0.000000</td>\n",
              "    </tr>\n",
              "    <tr>\n",
              "      <th>50%</th>\n",
              "      <td>50494.000000</td>\n",
              "      <td>53.983562</td>\n",
              "      <td>1.000000</td>\n",
              "      <td>165.000000</td>\n",
              "      <td>72.000000</td>\n",
              "      <td>120.000000</td>\n",
              "      <td>80.000000</td>\n",
              "      <td>1.000000</td>\n",
              "      <td>1.000000</td>\n",
              "      <td>0.000000</td>\n",
              "      <td>0.000000</td>\n",
              "      <td>1.000000</td>\n",
              "      <td>0.000000</td>\n",
              "    </tr>\n",
              "    <tr>\n",
              "      <th>75%</th>\n",
              "      <td>75150.000000</td>\n",
              "      <td>58.427397</td>\n",
              "      <td>2.000000</td>\n",
              "      <td>170.000000</td>\n",
              "      <td>82.000000</td>\n",
              "      <td>140.000000</td>\n",
              "      <td>90.000000</td>\n",
              "      <td>2.000000</td>\n",
              "      <td>1.000000</td>\n",
              "      <td>0.000000</td>\n",
              "      <td>0.000000</td>\n",
              "      <td>1.000000</td>\n",
              "      <td>1.000000</td>\n",
              "    </tr>\n",
              "    <tr>\n",
              "      <th>max</th>\n",
              "      <td>99999.000000</td>\n",
              "      <td>64.967123</td>\n",
              "      <td>2.000000</td>\n",
              "      <td>250.000000</td>\n",
              "      <td>200.000000</td>\n",
              "      <td>16020.000000</td>\n",
              "      <td>11000.000000</td>\n",
              "      <td>3.000000</td>\n",
              "      <td>3.000000</td>\n",
              "      <td>1.000000</td>\n",
              "      <td>1.000000</td>\n",
              "      <td>1.000000</td>\n",
              "      <td>1.000000</td>\n",
              "    </tr>\n",
              "  </tbody>\n",
              "</table>\n",
              "</div>"
            ],
            "text/plain": [
              "                 id           age  ...        active        cardio\n",
              "count  69301.000000  69301.000000  ...  69301.000000  69301.000000\n",
              "mean   50471.480397     53.339140  ...      0.803986      0.499589\n",
              "std    28563.100347      6.759621  ...      0.396982      0.500003\n",
              "min      988.000000     29.583562  ...      0.000000      0.000000\n",
              "25%    25745.000000     48.394521  ...      1.000000      0.000000\n",
              "50%    50494.000000     53.983562  ...      1.000000      0.000000\n",
              "75%    75150.000000     58.427397  ...      1.000000      1.000000\n",
              "max    99999.000000     64.967123  ...      1.000000      1.000000\n",
              "\n",
              "[8 rows x 13 columns]"
            ]
          },
          "metadata": {
            "tags": []
          },
          "execution_count": 8
        }
      ]
    },
    {
      "cell_type": "code",
      "metadata": {
        "id": "0IEA--aMkkPr",
        "colab_type": "code",
        "colab": {
          "base_uri": "https://localhost:8080/",
          "height": 452
        },
        "outputId": "ccd44880-a5d1-4cf9-f51e-b7d584576c46"
      },
      "source": [
        "data.corr()"
      ],
      "execution_count": null,
      "outputs": [
        {
          "output_type": "execute_result",
          "data": {
            "text/html": [
              "<div>\n",
              "<style scoped>\n",
              "    .dataframe tbody tr th:only-of-type {\n",
              "        vertical-align: middle;\n",
              "    }\n",
              "\n",
              "    .dataframe tbody tr th {\n",
              "        vertical-align: top;\n",
              "    }\n",
              "\n",
              "    .dataframe thead th {\n",
              "        text-align: right;\n",
              "    }\n",
              "</style>\n",
              "<table border=\"1\" class=\"dataframe\">\n",
              "  <thead>\n",
              "    <tr style=\"text-align: right;\">\n",
              "      <th></th>\n",
              "      <th>id</th>\n",
              "      <th>age</th>\n",
              "      <th>gender</th>\n",
              "      <th>height</th>\n",
              "      <th>weight</th>\n",
              "      <th>ap_hi</th>\n",
              "      <th>ap_lo</th>\n",
              "      <th>cholesterol</th>\n",
              "      <th>gluc</th>\n",
              "      <th>smoke</th>\n",
              "      <th>alco</th>\n",
              "      <th>active</th>\n",
              "      <th>cardio</th>\n",
              "    </tr>\n",
              "  </thead>\n",
              "  <tbody>\n",
              "    <tr>\n",
              "      <th>id</th>\n",
              "      <td>1.000000</td>\n",
              "      <td>0.003587</td>\n",
              "      <td>0.003773</td>\n",
              "      <td>-0.003735</td>\n",
              "      <td>-0.001549</td>\n",
              "      <td>0.003268</td>\n",
              "      <td>-0.002757</td>\n",
              "      <td>0.006400</td>\n",
              "      <td>0.002543</td>\n",
              "      <td>-0.003294</td>\n",
              "      <td>0.000384</td>\n",
              "      <td>0.002700</td>\n",
              "      <td>0.004269</td>\n",
              "    </tr>\n",
              "    <tr>\n",
              "      <th>age</th>\n",
              "      <td>0.003587</td>\n",
              "      <td>1.000000</td>\n",
              "      <td>-0.023150</td>\n",
              "      <td>-0.081304</td>\n",
              "      <td>0.054409</td>\n",
              "      <td>0.020663</td>\n",
              "      <td>0.017717</td>\n",
              "      <td>0.154343</td>\n",
              "      <td>0.099095</td>\n",
              "      <td>-0.047680</td>\n",
              "      <td>-0.029435</td>\n",
              "      <td>-0.009926</td>\n",
              "      <td>0.238095</td>\n",
              "    </tr>\n",
              "    <tr>\n",
              "      <th>gender</th>\n",
              "      <td>0.003773</td>\n",
              "      <td>-0.023150</td>\n",
              "      <td>1.000000</td>\n",
              "      <td>0.499373</td>\n",
              "      <td>0.155649</td>\n",
              "      <td>0.005980</td>\n",
              "      <td>0.015396</td>\n",
              "      <td>-0.036335</td>\n",
              "      <td>-0.021154</td>\n",
              "      <td>0.337608</td>\n",
              "      <td>0.171015</td>\n",
              "      <td>0.006241</td>\n",
              "      <td>0.008592</td>\n",
              "    </tr>\n",
              "    <tr>\n",
              "      <th>height</th>\n",
              "      <td>-0.003735</td>\n",
              "      <td>-0.081304</td>\n",
              "      <td>0.499373</td>\n",
              "      <td>1.000000</td>\n",
              "      <td>0.290333</td>\n",
              "      <td>0.005492</td>\n",
              "      <td>0.006215</td>\n",
              "      <td>-0.050632</td>\n",
              "      <td>-0.018929</td>\n",
              "      <td>0.187899</td>\n",
              "      <td>0.094164</td>\n",
              "      <td>-0.005974</td>\n",
              "      <td>-0.011015</td>\n",
              "    </tr>\n",
              "    <tr>\n",
              "      <th>weight</th>\n",
              "      <td>-0.001549</td>\n",
              "      <td>0.054409</td>\n",
              "      <td>0.155649</td>\n",
              "      <td>0.290333</td>\n",
              "      <td>1.000000</td>\n",
              "      <td>0.030665</td>\n",
              "      <td>0.043652</td>\n",
              "      <td>0.141901</td>\n",
              "      <td>0.107255</td>\n",
              "      <td>0.068304</td>\n",
              "      <td>0.067259</td>\n",
              "      <td>-0.016514</td>\n",
              "      <td>0.182094</td>\n",
              "    </tr>\n",
              "    <tr>\n",
              "      <th>ap_hi</th>\n",
              "      <td>0.003268</td>\n",
              "      <td>0.020663</td>\n",
              "      <td>0.005980</td>\n",
              "      <td>0.005492</td>\n",
              "      <td>0.030665</td>\n",
              "      <td>1.000000</td>\n",
              "      <td>0.015919</td>\n",
              "      <td>0.023573</td>\n",
              "      <td>0.011821</td>\n",
              "      <td>-0.000933</td>\n",
              "      <td>0.001385</td>\n",
              "      <td>0.000032</td>\n",
              "      <td>0.054211</td>\n",
              "    </tr>\n",
              "    <tr>\n",
              "      <th>ap_lo</th>\n",
              "      <td>-0.002757</td>\n",
              "      <td>0.017717</td>\n",
              "      <td>0.015396</td>\n",
              "      <td>0.006215</td>\n",
              "      <td>0.043652</td>\n",
              "      <td>0.015919</td>\n",
              "      <td>1.000000</td>\n",
              "      <td>0.024023</td>\n",
              "      <td>0.010895</td>\n",
              "      <td>0.004948</td>\n",
              "      <td>0.010764</td>\n",
              "      <td>0.004962</td>\n",
              "      <td>0.065290</td>\n",
              "    </tr>\n",
              "    <tr>\n",
              "      <th>cholesterol</th>\n",
              "      <td>0.006400</td>\n",
              "      <td>0.154343</td>\n",
              "      <td>-0.036335</td>\n",
              "      <td>-0.050632</td>\n",
              "      <td>0.141901</td>\n",
              "      <td>0.023573</td>\n",
              "      <td>0.024023</td>\n",
              "      <td>1.000000</td>\n",
              "      <td>0.451741</td>\n",
              "      <td>0.010237</td>\n",
              "      <td>0.036015</td>\n",
              "      <td>0.009708</td>\n",
              "      <td>0.220752</td>\n",
              "    </tr>\n",
              "    <tr>\n",
              "      <th>gluc</th>\n",
              "      <td>0.002543</td>\n",
              "      <td>0.099095</td>\n",
              "      <td>-0.021154</td>\n",
              "      <td>-0.018929</td>\n",
              "      <td>0.107255</td>\n",
              "      <td>0.011821</td>\n",
              "      <td>0.010895</td>\n",
              "      <td>0.451741</td>\n",
              "      <td>1.000000</td>\n",
              "      <td>-0.004608</td>\n",
              "      <td>0.011442</td>\n",
              "      <td>-0.007301</td>\n",
              "      <td>0.089062</td>\n",
              "    </tr>\n",
              "    <tr>\n",
              "      <th>smoke</th>\n",
              "      <td>-0.003294</td>\n",
              "      <td>-0.047680</td>\n",
              "      <td>0.337608</td>\n",
              "      <td>0.187899</td>\n",
              "      <td>0.068304</td>\n",
              "      <td>-0.000933</td>\n",
              "      <td>0.004948</td>\n",
              "      <td>0.010237</td>\n",
              "      <td>-0.004608</td>\n",
              "      <td>1.000000</td>\n",
              "      <td>0.339709</td>\n",
              "      <td>0.025794</td>\n",
              "      <td>-0.015225</td>\n",
              "    </tr>\n",
              "    <tr>\n",
              "      <th>alco</th>\n",
              "      <td>0.000384</td>\n",
              "      <td>-0.029435</td>\n",
              "      <td>0.171015</td>\n",
              "      <td>0.094164</td>\n",
              "      <td>0.067259</td>\n",
              "      <td>0.001385</td>\n",
              "      <td>0.010764</td>\n",
              "      <td>0.036015</td>\n",
              "      <td>0.011442</td>\n",
              "      <td>0.339709</td>\n",
              "      <td>1.000000</td>\n",
              "      <td>0.025745</td>\n",
              "      <td>-0.007217</td>\n",
              "    </tr>\n",
              "    <tr>\n",
              "      <th>active</th>\n",
              "      <td>0.002700</td>\n",
              "      <td>-0.009926</td>\n",
              "      <td>0.006241</td>\n",
              "      <td>-0.005974</td>\n",
              "      <td>-0.016514</td>\n",
              "      <td>0.000032</td>\n",
              "      <td>0.004962</td>\n",
              "      <td>0.009708</td>\n",
              "      <td>-0.007301</td>\n",
              "      <td>0.025794</td>\n",
              "      <td>0.025745</td>\n",
              "      <td>1.000000</td>\n",
              "      <td>-0.035592</td>\n",
              "    </tr>\n",
              "    <tr>\n",
              "      <th>cardio</th>\n",
              "      <td>0.004269</td>\n",
              "      <td>0.238095</td>\n",
              "      <td>0.008592</td>\n",
              "      <td>-0.011015</td>\n",
              "      <td>0.182094</td>\n",
              "      <td>0.054211</td>\n",
              "      <td>0.065290</td>\n",
              "      <td>0.220752</td>\n",
              "      <td>0.089062</td>\n",
              "      <td>-0.015225</td>\n",
              "      <td>-0.007217</td>\n",
              "      <td>-0.035592</td>\n",
              "      <td>1.000000</td>\n",
              "    </tr>\n",
              "  </tbody>\n",
              "</table>\n",
              "</div>"
            ],
            "text/plain": [
              "                   id       age    gender  ...      alco    active    cardio\n",
              "id           1.000000  0.003587  0.003773  ...  0.000384  0.002700  0.004269\n",
              "age          0.003587  1.000000 -0.023150  ... -0.029435 -0.009926  0.238095\n",
              "gender       0.003773 -0.023150  1.000000  ...  0.171015  0.006241  0.008592\n",
              "height      -0.003735 -0.081304  0.499373  ...  0.094164 -0.005974 -0.011015\n",
              "weight      -0.001549  0.054409  0.155649  ...  0.067259 -0.016514  0.182094\n",
              "ap_hi        0.003268  0.020663  0.005980  ...  0.001385  0.000032  0.054211\n",
              "ap_lo       -0.002757  0.017717  0.015396  ...  0.010764  0.004962  0.065290\n",
              "cholesterol  0.006400  0.154343 -0.036335  ...  0.036015  0.009708  0.220752\n",
              "gluc         0.002543  0.099095 -0.021154  ...  0.011442 -0.007301  0.089062\n",
              "smoke       -0.003294 -0.047680  0.337608  ...  0.339709  0.025794 -0.015225\n",
              "alco         0.000384 -0.029435  0.171015  ...  1.000000  0.025745 -0.007217\n",
              "active       0.002700 -0.009926  0.006241  ...  0.025745  1.000000 -0.035592\n",
              "cardio       0.004269  0.238095  0.008592  ... -0.007217 -0.035592  1.000000\n",
              "\n",
              "[13 rows x 13 columns]"
            ]
          },
          "metadata": {
            "tags": []
          },
          "execution_count": 15
        }
      ]
    },
    {
      "cell_type": "code",
      "metadata": {
        "id": "EF1nMBP-mvN3",
        "colab_type": "code",
        "colab": {
          "base_uri": "https://localhost:8080/",
          "height": 613
        },
        "outputId": "92563120-039d-4be2-d25f-af28f9e5312f"
      },
      "source": [
        "import seaborn as sns\n",
        "import matplotlib.pyplot as plt\n",
        "plt.subplots(figsize=(15,10))\n",
        "sns.heatmap(data.corr(),annot=True,)"
      ],
      "execution_count": 9,
      "outputs": [
        {
          "output_type": "execute_result",
          "data": {
            "text/plain": [
              "<matplotlib.axes._subplots.AxesSubplot at 0x7f9ff61e7748>"
            ]
          },
          "metadata": {
            "tags": []
          },
          "execution_count": 9
        },
        {
          "output_type": "display_data",
          "data": {
            "image/png": "[encoded data removed]",
            "text/plain": [
              "<Figure size 1080x720 with 2 Axes>"
            ]
          },
          "metadata": {
            "tags": [],
            "needs_background": "light"
          }
        }
      ]
    },
    {
      "cell_type": "code",
      "metadata": {
        "id": "h19XcAa8WnSA",
        "colab_type": "code",
        "colab": {
          "base_uri": "https://localhost:8080/",
          "height": 68
        },
        "outputId": "645e99e5-0de8-41b6-caa8-d029cc002fc6"
      },
      "source": [
        "data.columns"
      ],
      "execution_count": null,
      "outputs": [
        {
          "output_type": "execute_result",
          "data": {
            "text/plain": [
              "Index(['id', 'age', 'gender', 'height', 'weight', 'ap_hi', 'ap_lo',\n",
              "       'cholesterol', 'gluc', 'smoke', 'alco', 'active', 'cardio'],\n",
              "      dtype='object')"
            ]
          },
          "metadata": {
            "tags": []
          },
          "execution_count": 14
        }
      ]
    },
    {
      "cell_type": "code",
      "metadata": {
        "id": "QjwAMiuverjl",
        "colab_type": "code",
        "colab": {}
      },
      "source": [
        ""
      ],
      "execution_count": null,
      "outputs": []
    },
    {
      "cell_type": "code",
      "metadata": {
        "id": "Glq61TvSfW6z",
        "colab_type": "code",
        "colab": {
          "base_uri": "https://localhost:8080/",
          "height": 68
        },
        "outputId": "f8979d81-ecde-4de0-8b63-78d3f2729508"
      },
      "source": [
        "data.columns"
      ],
      "execution_count": null,
      "outputs": [
        {
          "output_type": "execute_result",
          "data": {
            "text/plain": [
              "Index(['age', 'weight', 'ap_hi', 'ap_lo', 'cholesterol', 'gluc', 'smoke',\n",
              "       'alco', 'active', 'cardio'],\n",
              "      dtype='object')"
            ]
          },
          "metadata": {
            "tags": []
          },
          "execution_count": 11
        }
      ]
    },
    {
      "cell_type": "code",
      "metadata": {
        "id": "IaBYDwIVXHYU",
        "colab_type": "code",
        "colab": {
          "base_uri": "https://localhost:8080/",
          "height": 282
        },
        "outputId": "b282e07f-48dd-46a5-a7d8-1aba25258b7b"
      },
      "source": [
        "data['weight'].plot.box()"
      ],
      "execution_count": null,
      "outputs": [
        {
          "output_type": "execute_result",
          "data": {
            "text/plain": [
              "<matplotlib.axes._subplots.AxesSubplot at 0x7efcd85c35c0>"
            ]
          },
          "metadata": {
            "tags": []
          },
          "execution_count": 20
        },
        {
          "output_type": "display_data",
          "data": {
            "image/png": "[encoded data removed]",
            "text/plain": [
              "<Figure size 432x288 with 1 Axes>"
            ]
          },
          "metadata": {
            "tags": [],
            "needs_background": "light"
          }
        }
      ]
    },
    {
      "cell_type": "code",
      "metadata": {
        "id": "gkG7tVf-Zkvk",
        "colab_type": "code",
        "colab": {
          "base_uri": "https://localhost:8080/",
          "height": 34
        },
        "outputId": "ba82b4c6-12f2-4f39-81f7-a6c8b00a8dc2"
      },
      "source": [
        "x = np.std(data['weight'])\n",
        "\n",
        "print(x)"
      ],
      "execution_count": null,
      "outputs": [
        {
          "output_type": "stream",
          "text": [
            "14.38336516450327\n"
          ],
          "name": "stdout"
        }
      ]
    },
    {
      "cell_type": "code",
      "metadata": {
        "id": "K8dUa52gXdC4",
        "colab_type": "code",
        "colab": {}
      },
      "source": [
        "#data['ap_hi'].plot.box()"
      ],
      "execution_count": null,
      "outputs": []
    },
    {
      "cell_type": "code",
      "metadata": {
        "id": "p0qyHkHXXdM0",
        "colab_type": "code",
        "colab": {}
      },
      "source": [
        "#data['age'].plot.box()"
      ],
      "execution_count": null,
      "outputs": []
    },
    {
      "cell_type": "code",
      "metadata": {
        "id": "8xnlR2MYahFv",
        "colab_type": "code",
        "colab": {
          "base_uri": "https://localhost:8080/",
          "height": 300
        },
        "outputId": "ff0733c7-0bba-4683-e769-03a7a743ef51"
      },
      "source": [
        "data.hist(figsize=(20,10), grid = False, layout=(2,10), bins = 30)\n",
        "plt.show()"
      ],
      "execution_count": null,
      "outputs": [
        {
          "output_type": "display_data",
          "data": {
            "image/png": "[encoded data removed]",
            "text/plain": [
              "<Figure size 1440x720 with 20 Axes>"
            ]
          },
          "metadata": {
            "tags": [],
            "needs_background": "light"
          }
        }
      ]
    },
    {
      "cell_type": "code",
      "metadata": {
        "id": "kyn0IfyPbMaD",
        "colab_type": "code",
        "colab": {
          "base_uri": "https://localhost:8080/",
          "height": 1000
        },
        "outputId": "440616d8-b728-4d37-a1a7-4434eefd6eca"
      },
      "source": [
        "sns.pairplot(data,hue='cardio')"
      ],
      "execution_count": null,
      "outputs": [
        {
          "output_type": "execute_result",
          "data": {
            "text/plain": [
              "<seaborn.axisgrid.PairGrid at 0x7efcd85ad518>"
            ]
          },
          "metadata": {
            "tags": []
          },
          "execution_count": 25
        },
        {
          "output_type": "display_data",
          "data": {
            "image/png": "[encoded data removed]",
            "text/plain": [
              "<Figure size 1662.38x1620 with 90 Axes>"
            ]
          },
          "metadata": {
            "tags": [],
            "needs_background": "light"
          }
        }
      ]
    },
    {
      "cell_type": "code",
      "metadata": {
        "id": "W1M_fKX-UilI",
        "colab_type": "code",
        "colab": {
          "base_uri": "https://localhost:8080/",
          "height": 238
        },
        "outputId": "53cf99f6-0302-4a7e-f61c-b04779324cee"
      },
      "source": [
        "from scipy.stats import zscore\n",
        "import numpy as np\n",
        "z=np.abs(zscore(data))\n",
        "z"
      ],
      "execution_count": 74,
      "outputs": [
        {
          "output_type": "execute_result",
          "data": {
            "text/plain": [
              "array([[1.73243929, 1.21601824, 0.73302344, ..., 0.23864069, 0.49376463,\n",
              "        0.99917784],\n",
              "       [1.73240428, 1.95391548, 0.73302344, ..., 0.23864069, 0.49376463,\n",
              "        1.00082284],\n",
              "       [1.73236927, 0.98580185, 0.73302344, ..., 0.23864069, 0.49376463,\n",
              "        0.99917784],\n",
              "       ...,\n",
              "       [1.7338761 , 0.16325352, 1.36421285, ..., 4.19040018, 2.02525646,\n",
              "        1.00082284],\n",
              "       [1.73394612, 1.20061644, 0.73302344, ..., 0.23864069, 2.02525646,\n",
              "        1.00082284],\n",
              "       [1.73398113, 0.43417421, 0.73302344, ..., 0.23864069, 0.49376463,\n",
              "        0.99917784]])"
            ]
          },
          "metadata": {
            "tags": []
          },
          "execution_count": 74
        }
      ]
    },
    {
      "cell_type": "code",
      "metadata": {
        "id": "thp668VFVvgk",
        "colab_type": "code",
        "colab": {
          "base_uri": "https://localhost:8080/",
          "height": 51
        },
        "outputId": "d8c1dd15-213e-47f2-ed84-eb86f80994d9"
      },
      "source": [
        "threshold=3\n",
        "print(np.where(z>3))\n",
        "df=data[(z<3).all(axis=1)]\n",
        "df.shape"
      ],
      "execution_count": 75,
      "outputs": [
        {
          "output_type": "stream",
          "text": [
            "(array([    3,     3,    13, ..., 69296, 69297, 69298]), array([ 9, 10,  8, ...,  9,  4, 10]))\n"
          ],
          "name": "stdout"
        },
        {
          "output_type": "execute_result",
          "data": {
            "text/plain": [
              "(55140, 13)"
            ]
          },
          "metadata": {
            "tags": []
          },
          "execution_count": 75
        }
      ]
    },
    {
      "cell_type": "code",
      "metadata": {
        "id": "iBhcH4uOeE3p",
        "colab_type": "code",
        "colab": {}
      },
      "source": [
        "#splitting the data\n",
        "x=df.drop('cardio',axis=1)"
      ],
      "execution_count": 12,
      "outputs": []
    },
    {
      "cell_type": "code",
      "metadata": {
        "id": "EL3QXg7phI3U",
        "colab_type": "code",
        "colab": {
          "base_uri": "https://localhost:8080/",
          "height": 34
        },
        "outputId": "c748745d-06d9-4b8e-e02a-e1ae1c39fb9d"
      },
      "source": [
        "x.shape"
      ],
      "execution_count": 13,
      "outputs": [
        {
          "output_type": "execute_result",
          "data": {
            "text/plain": [
              "(55140, 12)"
            ]
          },
          "metadata": {
            "tags": []
          },
          "execution_count": 13
        }
      ]
    },
    {
      "cell_type": "code",
      "metadata": {
        "id": "d4AoQ8lRhNMx",
        "colab_type": "code",
        "colab": {}
      },
      "source": [
        "y=df['cardio']"
      ],
      "execution_count": 14,
      "outputs": []
    },
    {
      "cell_type": "code",
      "metadata": {
        "id": "ff_KkarNhRKc",
        "colab_type": "code",
        "colab": {
          "base_uri": "https://localhost:8080/",
          "height": 34
        },
        "outputId": "df93e52b-88db-475a-e8ca-35940bb31b8b"
      },
      "source": [
        "y.shape"
      ],
      "execution_count": 15,
      "outputs": [
        {
          "output_type": "execute_result",
          "data": {
            "text/plain": [
              "(55140,)"
            ]
          },
          "metadata": {
            "tags": []
          },
          "execution_count": 15
        }
      ]
    },
    {
      "cell_type": "code",
      "metadata": {
        "id": "NFBBQtAvhnXc",
        "colab_type": "code",
        "colab": {}
      },
      "source": [
        ""
      ],
      "execution_count": 16,
      "outputs": []
    },
    {
      "cell_type": "code",
      "metadata": {
        "id": "SEQopqHxhTh1",
        "colab_type": "code",
        "colab": {}
      },
      "source": [
        "#Train and Test data \n",
        "x_train, x_test, y_train, y_test = train_test_split(x, y, test_size = 0.20, random_state = 42)"
      ],
      "execution_count": 17,
      "outputs": []
    },
    {
      "cell_type": "code",
      "metadata": {
        "id": "K9_eFuCEhbJ7",
        "colab_type": "code",
        "colab": {
          "base_uri": "https://localhost:8080/",
          "height": 85
        },
        "outputId": "1d62b61f-784f-4dca-84f0-a27b3a2cca3a"
      },
      "source": [
        "print(x_train.shape)\n",
        "print(x_test.shape)\n",
        "print(y_train.shape)\n",
        "print(y_test.shape)"
      ],
      "execution_count": 18,
      "outputs": [
        {
          "output_type": "stream",
          "text": [
            "(44112, 12)\n",
            "(11028, 12)\n",
            "(44112,)\n",
            "(11028,)\n"
          ],
          "name": "stdout"
        }
      ]
    },
    {
      "cell_type": "code",
      "metadata": {
        "id": "LCfP-yQAOj_N",
        "colab_type": "code",
        "colab": {}
      },
      "source": [
        "#Implementation of ml models\n",
        "from sklearn.naive_bayes import GaussianNB\n",
        "from sklearn.ensemble import RandomForestClassifier\n",
        "lg=LogisticRegression()\n",
        "knn=KNeighborsClassifier()\n",
        "dtc=DecisionTreeClassifier()\n",
        "gnb=GaussianNB()\n",
        "rfc=RandomForestClassifier()"
      ],
      "execution_count": 19,
      "outputs": []
    },
    {
      "cell_type": "code",
      "metadata": {
        "id": "XmIbIa70Okht",
        "colab_type": "code",
        "colab": {}
      },
      "source": [
        "models=[lg,knn,dtc,gnb,rfc]"
      ],
      "execution_count": 20,
      "outputs": []
    },
    {
      "cell_type": "code",
      "metadata": {
        "id": "V1SicmlIOxXd",
        "colab_type": "code",
        "colab": {}
      },
      "source": [
        "# Dictionary of pipelines and classifier types for ease of reference\n",
        "model_dict = {0: 'Logistic Regression', 1: 'KNeighbors', 2: 'DecisionTreeClassifier',3:'GaussianNB',4:'RandomForestClassifier'}\n",
        "\n",
        "# Fit the pipelines\n",
        "for i in models:\n",
        "\ti.fit(x_train, y_train)"
      ],
      "execution_count": 21,
      "outputs": []
    },
    {
      "cell_type": "code",
      "metadata": {
        "id": "ooscqBBmO1Qo",
        "colab_type": "code",
        "colab": {
          "base_uri": "https://localhost:8080/",
          "height": 102
        },
        "outputId": "5e09602c-bb91-4330-a1a0-962f6c2e268b"
      },
      "source": [
        "for i,model in enumerate(models):\n",
        "    print(\"{} Test Accuracy: {}\".format(model_dict[i],model.score(x_test,y_test)*100))"
      ],
      "execution_count": 22,
      "outputs": [
        {
          "output_type": "stream",
          "text": [
            "Logistic Regression Test Accuracy: 72.55168661588684\n",
            "KNeighbors Test Accuracy: 69.38701487123686\n",
            "DecisionTreeClassifier Test Accuracy: 63.384113166485314\n",
            "GaussianNB Test Accuracy: 69.84040623866522\n",
            "RandomForestClassifier Test Accuracy: 72.53355096118969\n"
          ],
          "name": "stdout"
        }
      ]
    },
    {
      "cell_type": "code",
      "metadata": {
        "id": "aoQoLUsrhwAL",
        "colab_type": "code",
        "colab": {
          "base_uri": "https://localhost:8080/",
          "height": 221
        },
        "outputId": "f6f32c65-613a-4e5b-9c6e-9a7485ebb6cf"
      },
      "source": [
        "lg=LogisticRegression()\n",
        "lg.fit(x_train,y_train)\n",
        "pred=lg.predict(x_test)\n",
        "print(accuracy_score(y_test,pred)*100)\n",
        "print(confusion_matrix(y_test,pred))\n",
        "print(classification_report(y_test,pred))"
      ],
      "execution_count": null,
      "outputs": [
        {
          "output_type": "stream",
          "text": [
            "72.55168661588684\n",
            "[[4565 1117]\n",
            " [1910 3436]]\n",
            "              precision    recall  f1-score   support\n",
            "\n",
            "           0       0.71      0.80      0.75      5682\n",
            "           1       0.75      0.64      0.69      5346\n",
            "\n",
            "    accuracy                           0.73     11028\n",
            "   macro avg       0.73      0.72      0.72     11028\n",
            "weighted avg       0.73      0.73      0.72     11028\n",
            "\n"
          ],
          "name": "stdout"
        }
      ]
    },
    {
      "cell_type": "code",
      "metadata": {
        "id": "f6C0PKD8PTZi",
        "colab_type": "code",
        "colab": {
          "base_uri": "https://localhost:8080/",
          "height": 221
        },
        "outputId": "51040563-fb85-463f-9948-193032bf8cec"
      },
      "source": [
        "rfc=RandomForestClassifier()\n",
        "rfc.fit(x_train,y_train)\n",
        "pred=rfc.predict(x_test)\n",
        "print(accuracy_score(y_test,pred)*100)\n",
        "print(confusion_matrix(y_test,pred))\n",
        "print(classification_report(y_test,pred))"
      ],
      "execution_count": 25,
      "outputs": [
        {
          "output_type": "stream",
          "text": [
            "72.47007616974973\n",
            "[[4370 1312]\n",
            " [1724 3622]]\n",
            "              precision    recall  f1-score   support\n",
            "\n",
            "           0       0.72      0.77      0.74      5682\n",
            "           1       0.73      0.68      0.70      5346\n",
            "\n",
            "    accuracy                           0.72     11028\n",
            "   macro avg       0.73      0.72      0.72     11028\n",
            "weighted avg       0.73      0.72      0.72     11028\n",
            "\n"
          ],
          "name": "stdout"
        }
      ]
    },
    {
      "cell_type": "code",
      "metadata": {
        "id": "34FQMnxDyyTW",
        "colab_type": "code",
        "colab": {}
      },
      "source": [
        ""
      ],
      "execution_count": null,
      "outputs": []
    },
    {
      "cell_type": "markdown",
      "metadata": {
        "id": "KlPhTLWnbbke",
        "colab_type": "text"
      },
      "source": [
        "Boosting"
      ]
    },
    {
      "cell_type": "code",
      "metadata": {
        "id": "kNlnMKBTbeO_",
        "colab_type": "code",
        "colab": {
          "base_uri": "https://localhost:8080/",
          "height": 34
        },
        "outputId": "03c1f853-4ab6-43fb-df9f-98d4f3706d0b"
      },
      "source": [
        "# Load libraries\n",
        "from sklearn.ensemble import AdaBoostClassifier\n",
        "\n",
        "# Create adaboost classifer object\n",
        "abc =AdaBoostClassifier(n_estimators=50, base_estimator=rfc,learning_rate=1)\n",
        "# Train Adaboost Classifer\n",
        "model = abc.fit(x_train, y_train)\n",
        "\n",
        "#Predict the response for test dataset\n",
        "y_pred = model.predict(x_test)\n",
        "\n",
        "# Model Accuracy, how often is the classifier correct?\n",
        "from sklearn import metrics\n",
        "accuracy = np.round(accuracy_score(pred,y_test),2)*100\n",
        "print(\"Accuracy:\",metrics.accuracy_score(y_test, y_pred))"
      ],
      "execution_count": 26,
      "outputs": [
        {
          "output_type": "stream",
          "text": [
            "Accuracy: 0.7275117881755532\n"
          ],
          "name": "stdout"
        }
      ]
    },
    {
      "cell_type": "markdown",
      "metadata": {
        "id": "gnODQmMCQYpo",
        "colab_type": "text"
      },
      "source": [
        "Roc Curve"
      ]
    },
    {
      "cell_type": "code",
      "metadata": {
        "id": "4KVlnrG7c0FB",
        "colab_type": "code",
        "colab": {
          "base_uri": "https://localhost:8080/",
          "height": 34
        },
        "outputId": "89eebe0f-9c82-4a40-9bc6-04f719a2ec7a"
      },
      "source": [
        "#roc-curve\n",
        "from sklearn.metrics import roc_curve\n",
        "y_pred_prob=model.predict_proba(x_test)[:,1]\n",
        "y_pred_prob"
      ],
      "execution_count": 28,
      "outputs": [
        {
          "output_type": "execute_result",
          "data": {
            "text/plain": [
              "array([0.43, 0.56, 0.71, ..., 0.49, 0.45, 0.92])"
            ]
          },
          "metadata": {
            "tags": []
          },
          "execution_count": 28
        }
      ]
    },
    {
      "cell_type": "code",
      "metadata": {
        "id": "yZEAHojoc4ti",
        "colab_type": "code",
        "colab": {}
      },
      "source": [
        "fpr,tpr,thresholds=roc_curve(y_test,y_pred_prob)"
      ],
      "execution_count": 29,
      "outputs": []
    },
    {
      "cell_type": "code",
      "metadata": {
        "id": "gABALXDEc9_Q",
        "colab_type": "code",
        "colab": {
          "base_uri": "https://localhost:8080/",
          "height": 1000
        },
        "outputId": "e2620c65-f41d-4e3a-ab58-1a06044d56f3"
      },
      "source": [
        "print(fpr)\n",
        "print(tpr)\n",
        "print(thresholds)"
      ],
      "execution_count": 30,
      "outputs": [
        {
          "output_type": "stream",
          "text": [
            "[0.00000000e+00 0.00000000e+00 0.00000000e+00 1.75994368e-04\n",
            " 3.51988736e-04 1.23196058e-03 1.75994368e-03 3.51988736e-03\n",
            " 5.27983105e-03 7.74375220e-03 1.24956001e-02 1.47835269e-02\n",
            " 1.65434706e-02 1.97113692e-02 2.55191834e-02 2.92150651e-02\n",
            " 3.55508624e-02 4.01267159e-02 4.54065470e-02 4.96304118e-02\n",
            " 5.36782823e-02 5.82541359e-02 6.30059838e-02 6.67018655e-02\n",
            " 7.03977473e-02 7.55015839e-02 7.95494544e-02 8.27173530e-02\n",
            " 8.71172122e-02 9.09890883e-02 9.41569870e-02 9.83808518e-02\n",
            " 1.02252728e-01 1.08412531e-01 1.14924322e-01 1.19676170e-01\n",
            " 1.25131996e-01 1.30235832e-01 1.34283703e-01 1.41675466e-01\n",
            " 1.48011264e-01 1.55931010e-01 1.64730729e-01 1.71242520e-01\n",
            " 1.77050334e-01 1.86202042e-01 1.93945794e-01 2.02041535e-01\n",
            " 2.08905315e-01 2.18057022e-01 2.27560718e-01 2.36184442e-01\n",
            " 2.46568110e-01 2.56423794e-01 2.68215417e-01 2.78071102e-01\n",
            " 2.89334741e-01 3.00950370e-01 3.14325942e-01 3.26469553e-01\n",
            " 3.39141147e-01 3.51636748e-01 3.66420275e-01 3.79443858e-01\n",
            " 3.95283351e-01 4.10242872e-01 4.30130236e-01 4.48609644e-01\n",
            " 4.64097149e-01 4.78528687e-01 4.94016191e-01 5.17247448e-01\n",
            " 5.35374868e-01 5.57198170e-01 5.74093629e-01 5.92221049e-01\n",
            " 6.11580429e-01 6.33931714e-01 6.54171067e-01 6.73354453e-01\n",
            " 6.93417811e-01 7.12777191e-01 7.29496656e-01 7.53255896e-01\n",
            " 7.73671243e-01 7.90038719e-01 8.12390004e-01 8.33685322e-01\n",
            " 8.51460753e-01 8.70116156e-01 8.87539599e-01 9.01619148e-01\n",
            " 9.15170715e-01 9.30482225e-01 9.41393875e-01 9.54593453e-01\n",
            " 9.66737064e-01 9.78176698e-01 9.87152411e-01 9.92960225e-01\n",
            " 9.97888068e-01 1.00000000e+00]\n",
            "[0.00000000e+00 5.61167228e-04 1.49644594e-03 3.55405911e-03\n",
            " 7.66928545e-03 1.40291807e-02 2.13243547e-02 3.19865320e-02\n",
            " 4.43322110e-02 6.32248410e-02 8.38009727e-02 1.07744108e-01\n",
            " 1.30939020e-01 1.53011597e-01 1.76767677e-01 2.02394314e-01\n",
            " 2.22970445e-01 2.47848859e-01 2.73288440e-01 2.95173962e-01\n",
            " 3.15188926e-01 3.36326225e-01 3.55780022e-01 3.75607931e-01\n",
            " 3.92442948e-01 4.11148522e-01 4.27235316e-01 4.42947999e-01\n",
            " 4.55854845e-01 4.68013468e-01 4.78488590e-01 4.90834269e-01\n",
            " 5.02618780e-01 5.14964459e-01 5.21885522e-01 5.32360643e-01\n",
            " 5.42087542e-01 5.54994388e-01 5.64347175e-01 5.75383464e-01\n",
            " 5.86045642e-01 5.96894875e-01 6.06434718e-01 6.14104003e-01\n",
            " 6.22708567e-01 6.32435466e-01 6.41414141e-01 6.51515152e-01\n",
            " 6.58997381e-01 6.68537224e-01 6.79760569e-01 6.87616910e-01\n",
            " 6.96782641e-01 7.06509540e-01 7.16797606e-01 7.25589226e-01\n",
            " 7.35129068e-01 7.42237187e-01 7.52525253e-01 7.59820426e-01\n",
            " 7.68424991e-01 7.77590722e-01 7.86382342e-01 7.96670408e-01\n",
            " 8.05087916e-01 8.12757202e-01 8.22297045e-01 8.31088664e-01\n",
            " 8.39506173e-01 8.46988403e-01 8.54844744e-01 8.62888141e-01\n",
            " 8.70370370e-01 8.79910213e-01 8.89263000e-01 8.96745230e-01\n",
            " 9.03479237e-01 9.10961467e-01 9.17882529e-01 9.26674149e-01\n",
            " 9.32846988e-01 9.38271605e-01 9.44818556e-01 9.49494949e-01\n",
            " 9.54732510e-01 9.61653573e-01 9.66704078e-01 9.70258137e-01\n",
            " 9.74373363e-01 9.77179199e-01 9.81294426e-01 9.84287318e-01\n",
            " 9.87654321e-01 9.90460157e-01 9.93078938e-01 9.94762439e-01\n",
            " 9.96258885e-01 9.98129443e-01 9.99064721e-01 9.99625889e-01\n",
            " 9.99812944e-01 1.00000000e+00]\n",
            "[2.00000000e+00 1.00000000e+00 9.90000000e-01 9.80000000e-01\n",
            " 9.70000000e-01 9.60000000e-01 9.50000000e-01 9.40000000e-01\n",
            " 9.30000000e-01 9.20000000e-01 9.10000000e-01 9.00000000e-01\n",
            " 8.90000000e-01 8.80000000e-01 8.70000000e-01 8.60000000e-01\n",
            " 8.50000000e-01 8.40000000e-01 8.30000000e-01 8.20000000e-01\n",
            " 8.10000000e-01 8.00000000e-01 7.90000000e-01 7.80000000e-01\n",
            " 7.70000000e-01 7.60000000e-01 7.50000000e-01 7.40000000e-01\n",
            " 7.30000000e-01 7.20000000e-01 7.10000000e-01 7.00000000e-01\n",
            " 6.90000000e-01 6.80000000e-01 6.70000000e-01 6.60000000e-01\n",
            " 6.50000000e-01 6.40000000e-01 6.30000000e-01 6.20000000e-01\n",
            " 6.10000000e-01 6.00000000e-01 5.90000000e-01 5.80000000e-01\n",
            " 5.70000000e-01 5.60000000e-01 5.50000000e-01 5.40000000e-01\n",
            " 5.30000000e-01 5.20000000e-01 5.10000000e-01 5.00000000e-01\n",
            " 4.90000000e-01 4.80000000e-01 4.70000000e-01 4.60000000e-01\n",
            " 4.50000000e-01 4.40000000e-01 4.30000000e-01 4.20000000e-01\n",
            " 4.10000000e-01 4.00000000e-01 3.90000000e-01 3.80000000e-01\n",
            " 3.70000000e-01 3.60000000e-01 3.50000000e-01 3.40000000e-01\n",
            " 3.30000000e-01 3.20000000e-01 3.10000000e-01 3.00000000e-01\n",
            " 2.90000000e-01 2.80000000e-01 2.70000000e-01 2.60000000e-01\n",
            " 2.50000000e-01 2.40000000e-01 2.30000000e-01 2.20000000e-01\n",
            " 2.10000000e-01 2.00000000e-01 1.90000000e-01 1.80000000e-01\n",
            " 1.70000000e-01 1.60000000e-01 1.50000000e-01 1.40000000e-01\n",
            " 1.30000000e-01 1.20000000e-01 1.10000000e-01 1.00000000e-01\n",
            " 9.00000000e-02 8.00000000e-02 7.00000000e-02 6.00000000e-02\n",
            " 5.00000000e-02 4.00000000e-02 3.00000000e-02 2.00000000e-02\n",
            " 1.00000000e-02 2.22044605e-16]\n"
          ],
          "name": "stdout"
        }
      ]
    },
    {
      "cell_type": "code",
      "metadata": {
        "id": "9iN8Zj5hc-Ft",
        "colab_type": "code",
        "colab": {
          "base_uri": "https://localhost:8080/",
          "height": 281
        },
        "outputId": "4fbed7cf-e1d0-425f-a75a-4ceda7bfe7f0"
      },
      "source": [
        "import matplotlib.pyplot as plt\n",
        "plt.plot([0,1],[0,1],'k--')\n",
        "plt.plot(fpr,tpr,label=\"lg\")\n",
        "plt.title(\"Model\")\n",
        "plt.show()"
      ],
      "execution_count": 31,
      "outputs": [
        {
          "output_type": "display_data",
          "data": {
            "image/png": "[encoded data removed]",
            "text/plain": [
              "<Figure size 432x288 with 1 Axes>"
            ]
          },
          "metadata": {
            "tags": [],
            "needs_background": "light"
          }
        }
      ]
    },
    {
      "cell_type": "markdown",
      "metadata": {
        "id": "9NnlStMhEBNO",
        "colab_type": "text"
      },
      "source": [
        "Grid Search CV"
      ]
    },
    {
      "cell_type": "code",
      "metadata": {
        "id": "P2KZ3jq0dkTE",
        "colab_type": "code",
        "colab": {
          "base_uri": "https://localhost:8080/",
          "height": 221
        },
        "outputId": "1e6eb29b-ec6e-4f6a-c66b-d75f71a58498"
      },
      "source": [
        "from sklearn.model_selection import GridSearchCV\n",
        "from sklearn.linear_model import LogisticRegression\n",
        "lg=LogisticRegression()\n",
        "clf =  GridSearchCV(lg,{'C': [1,10,20]},cv=10, return_train_score=False)\n",
        "clf.fit(x,y)"
      ],
      "execution_count": null,
      "outputs": [
        {
          "output_type": "execute_result",
          "data": {
            "text/plain": [
              "GridSearchCV(cv=10, error_score=nan,\n",
              "             estimator=LogisticRegression(C=1.0, class_weight=None, dual=False,\n",
              "                                          fit_intercept=True,\n",
              "                                          intercept_scaling=1, l1_ratio=None,\n",
              "                                          max_iter=100, multi_class='auto',\n",
              "                                          n_jobs=None, penalty='l2',\n",
              "                                          random_state=None, solver='lbfgs',\n",
              "                                          tol=0.0001, verbose=0,\n",
              "                                          warm_start=False),\n",
              "             iid='deprecated', n_jobs=None, param_grid={'C': [1, 10, 20]},\n",
              "             pre_dispatch='2*n_jobs', refit=True, return_train_score=False,\n",
              "             scoring=None, verbose=0)"
            ]
          },
          "metadata": {
            "tags": []
          },
          "execution_count": 30
        }
      ]
    },
    {
      "cell_type": "code",
      "metadata": {
        "id": "eGDYGbqsjxYO",
        "colab_type": "code",
        "colab": {}
      },
      "source": [
        "accuracy=clf.best_score_"
      ],
      "execution_count": null,
      "outputs": []
    },
    {
      "cell_type": "code",
      "metadata": {
        "id": "DE_umbOIkWwa",
        "colab_type": "code",
        "colab": {
          "base_uri": "https://localhost:8080/",
          "height": 34
        },
        "outputId": "1a3ce4a8-d266-4291-c03e-2123cde4dc10"
      },
      "source": [
        "accuracy"
      ],
      "execution_count": null,
      "outputs": [
        {
          "output_type": "execute_result",
          "data": {
            "text/plain": [
              "0.7261334784185709"
            ]
          },
          "metadata": {
            "tags": []
          },
          "execution_count": 34
        }
      ]
    },
    {
      "cell_type": "code",
      "metadata": {
        "id": "vSNXzHUpkW78",
        "colab_type": "code",
        "colab": {
          "base_uri": "https://localhost:8080/",
          "height": 34
        },
        "outputId": "bd96a7f3-9c09-4631-de28-7f76a54a9da7"
      },
      "source": [
        "clf.best_params_"
      ],
      "execution_count": null,
      "outputs": [
        {
          "output_type": "execute_result",
          "data": {
            "text/plain": [
              "{'C': 20}"
            ]
          },
          "metadata": {
            "tags": []
          },
          "execution_count": 35
        }
      ]
    },
    {
      "cell_type": "code",
      "metadata": {
        "id": "QwoVMo5KkyLi",
        "colab_type": "code",
        "colab": {
          "base_uri": "https://localhost:8080/",
          "height": 221
        },
        "outputId": "d8fb2d84-fff6-4fe8-9f0a-3a432f166595"
      },
      "source": [
        "lg=LogisticRegression(C=20)\n",
        "lg.fit(x_train,y_train)\n",
        "pred=lg.predict(x_test)\n",
        "print(accuracy_score(y_test,pred)*100)\n",
        "print(confusion_matrix(y_test,pred))\n",
        "print(classification_report(y_test,pred))"
      ],
      "execution_count": null,
      "outputs": [
        {
          "output_type": "stream",
          "text": [
            "72.55168661588684\n",
            "[[4565 1117]\n",
            " [1910 3436]]\n",
            "              precision    recall  f1-score   support\n",
            "\n",
            "           0       0.71      0.80      0.75      5682\n",
            "           1       0.75      0.64      0.69      5346\n",
            "\n",
            "    accuracy                           0.73     11028\n",
            "   macro avg       0.73      0.72      0.72     11028\n",
            "weighted avg       0.73      0.73      0.72     11028\n",
            "\n"
          ],
          "name": "stdout"
        }
      ]
    },
    {
      "cell_type": "code",
      "metadata": {
        "id": "e2EUXhZOT1Hd",
        "colab_type": "code",
        "colab": {}
      },
      "source": [
        ""
      ],
      "execution_count": null,
      "outputs": []
    },
    {
      "cell_type": "markdown",
      "metadata": {
        "id": "elFfJdJHYiLt",
        "colab_type": "text"
      },
      "source": [
        "Feature selection"
      ]
    },
    {
      "cell_type": "code",
      "metadata": {
        "id": "DYVqARtUQp-Y",
        "colab_type": "code",
        "colab": {}
      },
      "source": [
        "from sklearn.feature_selection import SelectKBest\n",
        "from sklearn.feature_selection import f_classif"
      ],
      "execution_count": 76,
      "outputs": []
    },
    {
      "cell_type": "code",
      "metadata": {
        "id": "UoMHYrGxWZqm",
        "colab_type": "code",
        "colab": {
          "base_uri": "https://localhost:8080/",
          "height": 34
        },
        "outputId": "aff7c176-8015-464e-e77a-e25c45cf3f9f"
      },
      "source": [
        "df.shape"
      ],
      "execution_count": 77,
      "outputs": [
        {
          "output_type": "execute_result",
          "data": {
            "text/plain": [
              "(55140, 13)"
            ]
          },
          "metadata": {
            "tags": []
          },
          "execution_count": 77
        }
      ]
    },
    {
      "cell_type": "code",
      "metadata": {
        "id": "IlqYcaA3XvL8",
        "colab_type": "code",
        "colab": {}
      },
      "source": [
        "#splitting the data\n",
        "x=df.drop('cardio',axis=1)\n",
        "y=df['cardio']"
      ],
      "execution_count": 78,
      "outputs": []
    },
    {
      "cell_type": "code",
      "metadata": {
        "id": "V7mrkdQ6Yphs",
        "colab_type": "code",
        "colab": {}
      },
      "source": [
        "#apply SelectKBest class to extract top 10 best features\n",
        "bestfeatures = SelectKBest(score_func=f_classif, k=10)\n",
        "fit = bestfeatures.fit(x,y)"
      ],
      "execution_count": 79,
      "outputs": []
    },
    {
      "cell_type": "code",
      "metadata": {
        "id": "557E2ylmY8q7",
        "colab_type": "code",
        "colab": {}
      },
      "source": [
        "dfscores = pd.DataFrame(fit.scores_)\n",
        "dfcolumns = pd.DataFrame(x.columns)"
      ],
      "execution_count": 80,
      "outputs": []
    },
    {
      "cell_type": "code",
      "metadata": {
        "id": "tVPVnZO8ZblI",
        "colab_type": "code",
        "colab": {}
      },
      "source": [
        "\n",
        "#concat two dataframes for better visualization \n",
        "featureScores = pd.concat([dfcolumns,dfscores],axis=1)\n",
        "featureScores.columns = ['Specs','Score']  #naming the dataframe columns"
      ],
      "execution_count": 81,
      "outputs": []
    },
    {
      "cell_type": "code",
      "metadata": {
        "id": "jCfuriz9Zh_3",
        "colab_type": "code",
        "colab": {
          "base_uri": "https://localhost:8080/",
          "height": 421
        },
        "outputId": "2653e32b-e1da-4d98-9a30-6c835856068f"
      },
      "source": [
        "featureScores"
      ],
      "execution_count": 82,
      "outputs": [
        {
          "output_type": "execute_result",
          "data": {
            "text/html": [
              "<div>\n",
              "<style scoped>\n",
              "    .dataframe tbody tr th:only-of-type {\n",
              "        vertical-align: middle;\n",
              "    }\n",
              "\n",
              "    .dataframe tbody tr th {\n",
              "        vertical-align: top;\n",
              "    }\n",
              "\n",
              "    .dataframe thead th {\n",
              "        text-align: right;\n",
              "    }\n",
              "</style>\n",
              "<table border=\"1\" class=\"dataframe\">\n",
              "  <thead>\n",
              "    <tr style=\"text-align: right;\">\n",
              "      <th></th>\n",
              "      <th>Specs</th>\n",
              "      <th>Score</th>\n",
              "    </tr>\n",
              "  </thead>\n",
              "  <tbody>\n",
              "    <tr>\n",
              "      <th>0</th>\n",
              "      <td>id</td>\n",
              "      <td>0.260303</td>\n",
              "    </tr>\n",
              "    <tr>\n",
              "      <th>1</th>\n",
              "      <td>age</td>\n",
              "      <td>3524.926545</td>\n",
              "    </tr>\n",
              "    <tr>\n",
              "      <th>2</th>\n",
              "      <td>gender</td>\n",
              "      <td>18.677279</td>\n",
              "    </tr>\n",
              "    <tr>\n",
              "      <th>3</th>\n",
              "      <td>height</td>\n",
              "      <td>8.996277</td>\n",
              "    </tr>\n",
              "    <tr>\n",
              "      <th>4</th>\n",
              "      <td>weight</td>\n",
              "      <td>1809.927998</td>\n",
              "    </tr>\n",
              "    <tr>\n",
              "      <th>5</th>\n",
              "      <td>ap_hi</td>\n",
              "      <td>10332.200683</td>\n",
              "    </tr>\n",
              "    <tr>\n",
              "      <th>6</th>\n",
              "      <td>ap_lo</td>\n",
              "      <td>5983.256705</td>\n",
              "    </tr>\n",
              "    <tr>\n",
              "      <th>7</th>\n",
              "      <td>cholesterol</td>\n",
              "      <td>2562.378967</td>\n",
              "    </tr>\n",
              "    <tr>\n",
              "      <th>8</th>\n",
              "      <td>gluc</td>\n",
              "      <td>174.984184</td>\n",
              "    </tr>\n",
              "    <tr>\n",
              "      <th>9</th>\n",
              "      <td>smoke</td>\n",
              "      <td>NaN</td>\n",
              "    </tr>\n",
              "    <tr>\n",
              "      <th>10</th>\n",
              "      <td>alco</td>\n",
              "      <td>NaN</td>\n",
              "    </tr>\n",
              "    <tr>\n",
              "      <th>11</th>\n",
              "      <td>active</td>\n",
              "      <td>76.246262</td>\n",
              "    </tr>\n",
              "  </tbody>\n",
              "</table>\n",
              "</div>"
            ],
            "text/plain": [
              "          Specs         Score\n",
              "0            id      0.260303\n",
              "1           age   3524.926545\n",
              "2        gender     18.677279\n",
              "3        height      8.996277\n",
              "4        weight   1809.927998\n",
              "5         ap_hi  10332.200683\n",
              "6         ap_lo   5983.256705\n",
              "7   cholesterol   2562.378967\n",
              "8          gluc    174.984184\n",
              "9         smoke           NaN\n",
              "10         alco           NaN\n",
              "11       active     76.246262"
            ]
          },
          "metadata": {
            "tags": []
          },
          "execution_count": 82
        }
      ]
    },
    {
      "cell_type": "code",
      "metadata": {
        "id": "P9NCO-Z_ZmWg",
        "colab_type": "code",
        "colab": {
          "base_uri": "https://localhost:8080/",
          "height": 204
        },
        "outputId": "3d241554-c243-4ac9-b0e5-ff03ead46380"
      },
      "source": [
        "print(featureScores.nlargest(10,'Score'))  #print 10 best features"
      ],
      "execution_count": 83,
      "outputs": [
        {
          "output_type": "stream",
          "text": [
            "          Specs         Score\n",
            "5         ap_hi  10332.200683\n",
            "6         ap_lo   5983.256705\n",
            "1           age   3524.926545\n",
            "7   cholesterol   2562.378967\n",
            "4        weight   1809.927998\n",
            "8          gluc    174.984184\n",
            "11       active     76.246262\n",
            "2        gender     18.677279\n",
            "3        height      8.996277\n",
            "0            id      0.260303\n"
          ],
          "name": "stdout"
        }
      ]
    },
    {
      "cell_type": "code",
      "metadata": {
        "id": "0KYll7yIZxAd",
        "colab_type": "code",
        "colab": {
          "base_uri": "https://localhost:8080/",
          "height": 68
        },
        "outputId": "6d339ba9-7519-4603-e938-b11b5b7b60bd"
      },
      "source": [
        "df.columns"
      ],
      "execution_count": 84,
      "outputs": [
        {
          "output_type": "execute_result",
          "data": {
            "text/plain": [
              "Index(['id', 'age', 'gender', 'height', 'weight', 'ap_hi', 'ap_lo',\n",
              "       'cholesterol', 'gluc', 'smoke', 'alco', 'active', 'cardio'],\n",
              "      dtype='object')"
            ]
          },
          "metadata": {
            "tags": []
          },
          "execution_count": 84
        }
      ]
    },
    {
      "cell_type": "code",
      "metadata": {
        "id": "vt7c3Ya_ee3G",
        "colab_type": "code",
        "colab": {}
      },
      "source": [
        "df.drop(['id','height','gender','active','smoke','alco'],axis=1,inplace=True)"
      ],
      "execution_count": 85,
      "outputs": []
    },
    {
      "cell_type": "code",
      "metadata": {
        "id": "gq6p5gIrcj5T",
        "colab_type": "code",
        "colab": {
          "base_uri": "https://localhost:8080/",
          "height": 34
        },
        "outputId": "1528cbdd-c0c2-497a-95ea-09a7aa4a3186"
      },
      "source": [
        "df.columns"
      ],
      "execution_count": 86,
      "outputs": [
        {
          "output_type": "execute_result",
          "data": {
            "text/plain": [
              "Index(['age', 'weight', 'ap_hi', 'ap_lo', 'cholesterol', 'gluc', 'cardio'], dtype='object')"
            ]
          },
          "metadata": {
            "tags": []
          },
          "execution_count": 86
        }
      ]
    },
    {
      "cell_type": "code",
      "metadata": {
        "id": "RUgN2Ey2cuEq",
        "colab_type": "code",
        "colab": {}
      },
      "source": [
        "#splitting the data\n",
        "x=df.drop('cardio',axis=1)\n",
        "y=df['cardio']"
      ],
      "execution_count": 87,
      "outputs": []
    },
    {
      "cell_type": "code",
      "metadata": {
        "id": "dTxRm0hMgMco",
        "colab_type": "code",
        "colab": {}
      },
      "source": [
        ""
      ],
      "execution_count": 55,
      "outputs": []
    },
    {
      "cell_type": "code",
      "metadata": {
        "id": "utzb-hEvdG6_",
        "colab_type": "code",
        "colab": {}
      },
      "source": [
        "#Train and Test data \n",
        "x_train, x_test, y_train, y_test = train_test_split(x, y, test_size = 0.20, random_state = 42)"
      ],
      "execution_count": 88,
      "outputs": []
    },
    {
      "cell_type": "code",
      "metadata": {
        "id": "qsbmuaLSfvQ_",
        "colab_type": "code",
        "colab": {}
      },
      "source": [
        "# Now applying the Normalisation on the train and test set\n",
        "from sklearn.preprocessing import StandardScaler\n",
        "sc = StandardScaler()\n",
        "x_train = sc.fit_transform(x_train)\n",
        "x_test=sc.fit_transform(x_test)"
      ],
      "execution_count": 89,
      "outputs": []
    },
    {
      "cell_type": "code",
      "metadata": {
        "id": "l0pzUGeCqcFW",
        "colab_type": "code",
        "colab": {
          "base_uri": "https://localhost:8080/",
          "height": 221
        },
        "outputId": "eaeba179-74c9-4f59-da0b-ddeeaba756e2"
      },
      "source": [
        "lg=LogisticRegression()\n",
        "lg.fit(x_train,y_train)\n",
        "pred=lg.predict(x_test)\n",
        "print(accuracy_score(y_test,pred)*100)\n",
        "print(confusion_matrix(y_test,pred))\n",
        "print(classification_report(y_test,pred))"
      ],
      "execution_count": 90,
      "outputs": [
        {
          "output_type": "stream",
          "text": [
            "72.52448313384113\n",
            "[[4555 1127]\n",
            " [1903 3443]]\n",
            "              precision    recall  f1-score   support\n",
            "\n",
            "           0       0.71      0.80      0.75      5682\n",
            "           1       0.75      0.64      0.69      5346\n",
            "\n",
            "    accuracy                           0.73     11028\n",
            "   macro avg       0.73      0.72      0.72     11028\n",
            "weighted avg       0.73      0.73      0.72     11028\n",
            "\n"
          ],
          "name": "stdout"
        }
      ]
    },
    {
      "cell_type": "code",
      "metadata": {
        "id": "KcuYdCr4qoUw",
        "colab_type": "code",
        "colab": {
          "base_uri": "https://localhost:8080/",
          "height": 221
        },
        "outputId": "a7ad48b1-523b-42d6-bbd6-27f52b6bfdc4"
      },
      "source": [
        "knn=KNeighborsClassifier(n_neighbors=30)\n",
        "knn.fit(x_train,y_train)\n",
        "pred=knn.predict(x_test)\n",
        "print(accuracy_score(y_test,pred)*100)\n",
        "print(confusion_matrix(y_test,pred))\n",
        "print(classification_report(y_test,pred))"
      ],
      "execution_count": 105,
      "outputs": [
        {
          "output_type": "stream",
          "text": [
            "73.06855277475518\n",
            "[[4545 1137]\n",
            " [1833 3513]]\n",
            "              precision    recall  f1-score   support\n",
            "\n",
            "           0       0.71      0.80      0.75      5682\n",
            "           1       0.76      0.66      0.70      5346\n",
            "\n",
            "    accuracy                           0.73     11028\n",
            "   macro avg       0.73      0.73      0.73     11028\n",
            "weighted avg       0.73      0.73      0.73     11028\n",
            "\n"
          ],
          "name": "stdout"
        }
      ]
    },
    {
      "cell_type": "code",
      "metadata": {
        "id": "9BgrRDJ46aC9",
        "colab_type": "code",
        "colab": {
          "base_uri": "https://localhost:8080/",
          "height": 296
        },
        "outputId": "fda67d3e-bfe7-4ba7-d0d4-2a38e91800c0"
      },
      "source": [
        "# IMPORTANT: first argument is true values, second argument is predicted probabilities\n",
        "\n",
        "# we pass y_test and y_pred_prob\n",
        "# we do not use y_pred_class, because it will give incorrect results without generating an error\n",
        "# roc_curve returns 3 objects fpr, tpr, thresholds\n",
        "# fpr: false positive rate\n",
        "# tpr: true positive rate\n",
        "fpr, tpr, thresholds = metrics.roc_curve(y_test, y_pred_prob)\n",
        "\n",
        "plt.plot(fpr, tpr)\n",
        "plt.xlim([0.0, 1.0])\n",
        "plt.ylim([0.0, 1.0])\n",
        "plt.rcParams['font.size'] = 12\n",
        "plt.title('ROC curve for diabetes classifier')\n",
        "plt.xlabel('False Positive Rate (1 - Specificity)')\n",
        "plt.ylabel('True Positive Rate (Sensitivity)')\n",
        "plt.grid(True)"
      ],
      "execution_count": 115,
      "outputs": [
        {
          "output_type": "display_data",
          "data": {
            "image/png": "[encoded data removed]",
            "text/plain": [
              "<Figure size 432x288 with 1 Axes>"
            ]
          },
          "metadata": {
            "tags": [],
            "needs_background": "light"
          }
        }
      ]
    },
    {
      "cell_type": "code",
      "metadata": {
        "id": "0_wwpp8TzOAP",
        "colab_type": "code",
        "colab": {
          "base_uri": "https://localhost:8080/",
          "height": 68
        },
        "outputId": "14b2977f-4e82-4fe9-e111-9d177f66de42"
      },
      "source": [
        "y_test.value_counts()"
      ],
      "execution_count": 106,
      "outputs": [
        {
          "output_type": "execute_result",
          "data": {
            "text/plain": [
              "0    5682\n",
              "1    5346\n",
              "Name: cardio, dtype: int64"
            ]
          },
          "metadata": {
            "tags": []
          },
          "execution_count": 106
        }
      ]
    },
    {
      "cell_type": "code",
      "metadata": {
        "id": "iZH2IlxZ5EBt",
        "colab_type": "code",
        "colab": {
          "base_uri": "https://localhost:8080/",
          "height": 34
        },
        "outputId": "08bbe034-0da6-4ba4-bc3f-234cd4fc165a"
      },
      "source": [
        "# because y_test only contains ones and zeros, we can simply calculate the mean = percentage of ones\n",
        "y_test.mean()"
      ],
      "execution_count": 107,
      "outputs": [
        {
          "output_type": "execute_result",
          "data": {
            "text/plain": [
              "0.484766050054407"
            ]
          },
          "metadata": {
            "tags": []
          },
          "execution_count": 107
        }
      ]
    },
    {
      "cell_type": "code",
      "metadata": {
        "id": "nUMPKh_E5H5n",
        "colab_type": "code",
        "colab": {
          "base_uri": "https://localhost:8080/",
          "height": 34
        },
        "outputId": "da61c263-455f-4540-c27f-39afe9f7786d"
      },
      "source": [
        "# calculate the percentage of zeros\n",
        "1 - y_test.mean()"
      ],
      "execution_count": 108,
      "outputs": [
        {
          "output_type": "execute_result",
          "data": {
            "text/plain": [
              "0.515233949945593"
            ]
          },
          "metadata": {
            "tags": []
          },
          "execution_count": 108
        }
      ]
    },
    {
      "cell_type": "code",
      "metadata": {
        "id": "FQSmlgrS5LtE",
        "colab_type": "code",
        "colab": {
          "base_uri": "https://localhost:8080/",
          "height": 34
        },
        "outputId": "31f9d071-0a8f-4736-b29c-ee399900af0d"
      },
      "source": [
        "# calculate null accuracy in a single line of code\n",
        "# only for binary classification problems coded as 0/1\n",
        "max(y_test.mean(), 1 - y_test.mean())"
      ],
      "execution_count": 109,
      "outputs": [
        {
          "output_type": "execute_result",
          "data": {
            "text/plain": [
              "0.515233949945593"
            ]
          },
          "metadata": {
            "tags": []
          },
          "execution_count": 109
        }
      ]
    },
    {
      "cell_type": "code",
      "metadata": {
        "id": "qEYFSqTF5PLK",
        "colab_type": "code",
        "colab": {
          "base_uri": "https://localhost:8080/",
          "height": 51
        },
        "outputId": "d253fc38-944c-4504-de51-fb26c67e09af"
      },
      "source": [
        "# calculate null accuracy (for multi-class classification problems)\n",
        "y_test.value_counts().head(1) / len(y_test)"
      ],
      "execution_count": 110,
      "outputs": [
        {
          "output_type": "execute_result",
          "data": {
            "text/plain": [
              "0    0.515234\n",
              "Name: cardio, dtype: float64"
            ]
          },
          "metadata": {
            "tags": []
          },
          "execution_count": 110
        }
      ]
    },
    {
      "cell_type": "code",
      "metadata": {
        "id": "216joBKq5To1",
        "colab_type": "code",
        "colab": {
          "base_uri": "https://localhost:8080/",
          "height": 51
        },
        "outputId": "0d1b00da-2d57-4853-b090-72974a6c612c"
      },
      "source": [
        "# this produces a 2x2 numpy array (matrix)\n",
        "from sklearn import metrics\n",
        "# calculate null accuracy (for multi-class classification problems)\n",
        "y_test.value_counts().head(1) / len(y_test)"
      ],
      "execution_count": 111,
      "outputs": [
        {
          "output_type": "execute_result",
          "data": {
            "text/plain": [
              "0    0.515234\n",
              "Name: cardio, dtype: float64"
            ]
          },
          "metadata": {
            "tags": []
          },
          "execution_count": 111
        }
      ]
    },
    {
      "cell_type": "code",
      "metadata": {
        "id": "abJtNYKa5vNV",
        "colab_type": "code",
        "colab": {}
      },
      "source": [
        ""
      ],
      "execution_count": null,
      "outputs": []
    },
    {
      "cell_type": "code",
      "metadata": {
        "id": "e3NSTX2D5ZfI",
        "colab_type": "code",
        "colab": {
          "base_uri": "https://localhost:8080/",
          "height": 51
        },
        "outputId": "d8ead68e-1b37-4bc5-fff3-3b5be3950519"
      },
      "source": [
        "# print the first 25 true and predicted responses\n",
        "print('True:', y_test.values[0:25])\n",
        "print('Pred:', pred[0:25])"
      ],
      "execution_count": 114,
      "outputs": [
        {
          "output_type": "stream",
          "text": [
            "True: [0 1 1 1 0 0 0 0 0 1 0 0 0 0 1 1 0 0 0 0 0 1 1 1 1]\n",
            "Pred: [0 0 1 0 1 0 0 0 0 1 0 1 0 1 0 1 0 0 0 0 0 1 0 1 0]\n"
          ],
          "name": "stdout"
        }
      ]
    },
    {
      "cell_type": "markdown",
      "metadata": {
        "id": "JfKVJsaB6Qwi",
        "colab_type": "text"
      },
      "source": [
        "Model saving"
      ]
    },
    {
      "cell_type": "code",
      "metadata": {
        "id": "j6lCqFgc5gJ1",
        "colab_type": "code",
        "colab": {
          "base_uri": "https://localhost:8080/",
          "height": 34
        },
        "outputId": "4150851e-e9d5-4477-8753-218d427e7e17"
      },
      "source": [
        "from sklearn.externals import joblib\n",
        "#saving the model as pickl\n",
        "joblib.dump(knn,\"Cardio_data.pkl\")"
      ],
      "execution_count": 116,
      "outputs": [
        {
          "output_type": "execute_result",
          "data": {
            "text/plain": [
              "['Cardio_data.pkl']"
            ]
          },
          "metadata": {
            "tags": []
          },
          "execution_count": 116
        }
      ]
    },
    {
      "cell_type": "code",
      "metadata": {
        "id": "VzAbnsP36r1C",
        "colab_type": "code",
        "colab": {
          "base_uri": "https://localhost:8080/",
          "height": 34
        },
        "outputId": "c27ac3b9-6d2e-4fb3-875c-a3b588e7daac"
      },
      "source": [
        "x= joblib.load('Cardio_data.pkl')\n",
        "model_pred=x.predict(x_test)\n",
        "model_pred"
      ],
      "execution_count": 119,
      "outputs": [
        {
          "output_type": "execute_result",
          "data": {
            "text/plain": [
              "array([0, 0, 1, ..., 0, 0, 1])"
            ]
          },
          "metadata": {
            "tags": []
          },
          "execution_count": 119
        }
      ]
    },
    {
      "cell_type": "code",
      "metadata": {
        "id": "uFKd9nzW619G",
        "colab_type": "code",
        "colab": {}
      },
      "source": [
        ""
      ],
      "execution_count": null,
      "outputs": []
    }
  ]
}