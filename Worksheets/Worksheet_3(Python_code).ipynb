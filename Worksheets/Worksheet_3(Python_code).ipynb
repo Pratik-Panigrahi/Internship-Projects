{
 "cells": [
  {
   "cell_type": "code",
   "execution_count": 1,
   "metadata": {},
   "outputs": [],
   "source": [
    "import numpy as np\n",
    "import pandas as pd"
   ]
  },
  {
   "cell_type": "code",
   "execution_count": 12,
   "metadata": {},
   "outputs": [
    {
     "name": "stdout",
     "output_type": "stream",
     "text": [
      "I Love Python\n"
     ]
    }
   ],
   "source": [
    "#Qus 12:replace value in string\n",
    "a=\"I+Love+Python\"\n",
    "print(a.replace(\"+\",\" \"))"
   ]
  },
  {
   "cell_type": "code",
   "execution_count": 8,
   "metadata": {},
   "outputs": [
    {
     "name": "stdout",
     "output_type": "stream",
     "text": [
      "97\n"
     ]
    }
   ],
   "source": [
    "#Qus 13:Wahat is Ord function\n",
    "#ord() funtion is used to convert single srting to ASCII code or to represent the unicode of the specified character.\n",
    "print(ord('a'))"
   ]
  },
  {
   "cell_type": "code",
   "execution_count": 9,
   "metadata": {},
   "outputs": [
    {
     "name": "stdout",
     "output_type": "stream",
     "text": [
      "<class 'int'>\n"
     ]
    }
   ],
   "source": [
    "#Function for getting the datatype of the variable is type().\n",
    "print(type(12))"
   ]
  },
  {
   "cell_type": "code",
   "execution_count": 15,
   "metadata": {},
   "outputs": [
    {
     "name": "stdout",
     "output_type": "stream",
     "text": [
      "ax2+bx+c\n",
      "Enter a value2\n",
      "Enter b value3\n",
      "Enter c value1\n",
      "-0.5 , -1.0\n",
      "the values of x are  -0.5 , -1.0\n"
     ]
    }
   ],
   "source": [
    "#Qus 14:Write a python program to solve a quadratic equation of the form 𝑎𝑥2+𝑏𝑥+𝑐=0.\n",
    "import math\n",
    "print(\"ax2+bx+c\")\n",
    "a=int(input(\"Enter a value\"))\n",
    "b=int(input(\"Enter b value\"))\n",
    "c=int(input(\"Enter c value\"))\n",
    "\n",
    "x=(-b+math.sqrt(b*b-4*a*c))/(2*a)\n",
    "y=(-b-math.sqrt(b*b-4*a*c))/(2*a)\n",
    "print(x,\",\",y)\n",
    "\n",
    "if x==y:\n",
    "    print(\"the value of x is\",x)\n",
    "else:\n",
    "    print(\"the values of x are \",x,\",\",y)"
   ]
  },
  {
   "cell_type": "code",
   "execution_count": 12,
   "metadata": {},
   "outputs": [],
   "source": [
    "#Qus 15:Write a python program to find the sum of first ‘n’ natural numbers without using any loop.\n",
    "def sum():\n",
    "    n=int(input(\"Enter a number\"))\n",
    "    x=n*(n+1)/2\n",
    "    print(x)"
   ]
  },
  {
   "cell_type": "code",
   "execution_count": 13,
   "metadata": {},
   "outputs": [
    {
     "name": "stdout",
     "output_type": "stream",
     "text": [
      "Enter a number8\n",
      "36.0\n"
     ]
    }
   ],
   "source": [
    "sum()"
   ]
  },
  {
   "cell_type": "code",
   "execution_count": 25,
   "metadata": {},
   "outputs": [
    {
     "data": {
      "text/plain": [
       "43046721"
      ]
     },
     "execution_count": 25,
     "metadata": {},
     "output_type": "execute_result"
    }
   ],
   "source": [
    "#Qus 7\n",
    "3**16"
   ]
  },
  {
   "cell_type": "code",
   "execution_count": 26,
   "metadata": {},
   "outputs": [
    {
     "data": {
      "text/plain": [
       "139008452377144732764939786789661303114218850808529137991604824430036072629766435941001769154109609521811665540548899435521"
      ]
     },
     "execution_count": 26,
     "metadata": {},
     "output_type": "execute_result"
    }
   ],
   "source": [
    "3**4**4"
   ]
  },
  {
   "cell_type": "code",
   "execution_count": 27,
   "metadata": {},
   "outputs": [
    {
     "data": {
      "text/plain": [
       "19"
      ]
     },
     "execution_count": 27,
     "metadata": {},
     "output_type": "execute_result"
    }
   ],
   "source": [
    "3^16"
   ]
  },
  {
   "cell_type": "code",
   "execution_count": 28,
   "metadata": {},
   "outputs": [
    {
     "data": {
      "text/plain": [
       "43046721"
      ]
     },
     "execution_count": 28,
     "metadata": {},
     "output_type": "execute_result"
    }
   ],
   "source": [
    "(3**4)**4"
   ]
  },
  {
   "cell_type": "code",
   "execution_count": null,
   "metadata": {},
   "outputs": [],
   "source": []
  }
 ],
 "metadata": {
  "kernelspec": {
   "display_name": "Python 3",
   "language": "python",
   "name": "python3"
  },
  "language_info": {
   "codemirror_mode": {
    "name": "ipython",
    "version": 3
   },
   "file_extension": ".py",
   "mimetype": "text/x-python",
   "name": "python",
   "nbconvert_exporter": "python",
   "pygments_lexer": "ipython3",
   "version": "3.7.3"
  }
 },
 "nbformat": 4,
 "nbformat_minor": 2
}
