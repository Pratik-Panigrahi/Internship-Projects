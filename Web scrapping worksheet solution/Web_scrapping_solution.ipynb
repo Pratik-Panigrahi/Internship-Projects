{
 "cells": [
  {
   "cell_type": "code",
   "execution_count": 1,
   "metadata": {},
   "outputs": [],
   "source": [
    "import pandas as pd\n",
    "import numpy as np"
   ]
  },
  {
   "cell_type": "code",
   "execution_count": 2,
   "metadata": {},
   "outputs": [
    {
     "name": "stdout",
     "output_type": "stream",
     "text": [
      "Collecting google_images_download\n",
      "  Downloading https://files.pythonhosted.org/packages/18/ed/0319d30c48f3653802da8e6dcfefcea6370157d10d566ef6807cceb5ec4d/google_images_download-2.8.0.tar.gz\n",
      "Requirement already satisfied: selenium in c:\\users\\pratik panigrahi\\anaconda3\\lib\\site-packages (from google_images_download) (3.141.0)\n",
      "Requirement already satisfied: urllib3 in c:\\users\\pratik panigrahi\\anaconda3\\lib\\site-packages (from selenium->google_images_download) (1.24.2)\n",
      "Building wheels for collected packages: google-images-download\n",
      "  Building wheel for google-images-download (setup.py): started\n",
      "  Building wheel for google-images-download (setup.py): finished with status 'done'\n",
      "  Stored in directory: C:\\Users\\PRATIK PANIGRAHI\\AppData\\Local\\pip\\Cache\\wheels\\1f\\28\\ad\\f56e7061e1d2a9a1affe2f9c649c2570cb9198dd24ede0bbab\n",
      "Successfully built google-images-download\n",
      "Installing collected packages: google-images-download\n",
      "Successfully installed google-images-download-2.8.0\n"
     ]
    }
   ],
   "source": [
    "#!pip install google_images_download"
   ]
  },
  {
   "cell_type": "code",
   "execution_count": 14,
   "metadata": {},
   "outputs": [
    {
     "name": "stdout",
     "output_type": "stream",
     "text": [
      "Collecting icrawler\n",
      "  Downloading https://files.pythonhosted.org/packages/89/de/71d154b1fe181ee1a4afae5d10451856ef4689b3fd72d93cc55f31d2886a/icrawler-0.6.3-py2.py3-none-any.whl\n",
      "Requirement already satisfied: requests>=2.9.1 in c:\\users\\pratik panigrahi\\anaconda3\\lib\\site-packages (from icrawler) (2.22.0)\n",
      "Requirement already satisfied: six>=1.10.0 in c:\\users\\pratik panigrahi\\anaconda3\\lib\\site-packages (from icrawler) (1.12.0)\n",
      "Requirement already satisfied: lxml in c:\\users\\pratik panigrahi\\anaconda3\\lib\\site-packages (from icrawler) (4.3.4)\n",
      "Requirement already satisfied: beautifulsoup4>=4.4.1 in c:\\users\\pratik panigrahi\\anaconda3\\lib\\site-packages (from icrawler) (4.7.1)\n",
      "Requirement already satisfied: Pillow in c:\\users\\pratik panigrahi\\anaconda3\\lib\\site-packages (from icrawler) (6.1.0)\n",
      "Requirement already satisfied: urllib3!=1.25.0,!=1.25.1,<1.26,>=1.21.1 in c:\\users\\pratik panigrahi\\anaconda3\\lib\\site-packages (from requests>=2.9.1->icrawler) (1.24.2)\n",
      "Requirement already satisfied: chardet<3.1.0,>=3.0.2 in c:\\users\\pratik panigrahi\\anaconda3\\lib\\site-packages (from requests>=2.9.1->icrawler) (3.0.4)\n",
      "Requirement already satisfied: certifi>=2017.4.17 in c:\\users\\pratik panigrahi\\anaconda3\\lib\\site-packages (from requests>=2.9.1->icrawler) (2019.6.16)\n",
      "Requirement already satisfied: idna<2.9,>=2.5 in c:\\users\\pratik panigrahi\\anaconda3\\lib\\site-packages (from requests>=2.9.1->icrawler) (2.8)\n",
      "Requirement already satisfied: soupsieve>=1.2 in c:\\users\\pratik panigrahi\\anaconda3\\lib\\site-packages (from beautifulsoup4>=4.4.1->icrawler) (1.8)\n",
      "Installing collected packages: icrawler\n",
      "Successfully installed icrawler-0.6.3\n"
     ]
    }
   ],
   "source": [
    "!pip install icrawler"
   ]
  },
  {
   "cell_type": "code",
   "execution_count": 19,
   "metadata": {},
   "outputs": [
    {
     "name": "stderr",
     "output_type": "stream",
     "text": [
      "2020-08-27 14:23:37,319 - INFO - icrawler.crawler - start crawling...\n",
      "2020-08-27 14:23:37,323 - INFO - icrawler.crawler - starting 1 feeder threads...\n",
      "2020-08-27 14:23:37,350 - INFO - feeder - thread feeder-001 exit\n",
      "2020-08-27 14:23:37,366 - INFO - icrawler.crawler - starting 1 parser threads...\n",
      "2020-08-27 14:23:37,410 - INFO - icrawler.crawler - starting 1 downloader threads...\n",
      "2020-08-27 14:23:41,247 - INFO - parser - parsing result page https://www.google.com/search?q=doctor&ijn=0&start=0&tbs=&tbm=isch\n",
      "Exception in thread parser-001:\n",
      "Traceback (most recent call last):\n",
      "  File \"C:\\Users\\PRATIK PANIGRAHI\\Anaconda3\\lib\\threading.py\", line 917, in _bootstrap_inner\n",
      "    self.run()\n",
      "  File \"C:\\Users\\PRATIK PANIGRAHI\\Anaconda3\\lib\\threading.py\", line 865, in run\n",
      "    self._target(*self._args, **self._kwargs)\n",
      "  File \"C:\\Users\\PRATIK PANIGRAHI\\Anaconda3\\lib\\site-packages\\icrawler\\parser.py\", line 104, in worker_exec\n",
      "    for task in self.parse(response, **kwargs):\n",
      "  File \"C:\\Users\\PRATIK PANIGRAHI\\Anaconda3\\lib\\site-packages\\icrawler\\builtin\\google.py\", line 157, in parse\n",
      "    meta = json.loads(txt)\n",
      "  File \"C:\\Users\\PRATIK PANIGRAHI\\Anaconda3\\lib\\json\\__init__.py\", line 348, in loads\n",
      "    return _default_decoder.decode(s)\n",
      "  File \"C:\\Users\\PRATIK PANIGRAHI\\Anaconda3\\lib\\json\\decoder.py\", line 337, in decode\n",
      "    obj, end = self.raw_decode(s, idx=_w(s, 0).end())\n",
      "  File \"C:\\Users\\PRATIK PANIGRAHI\\Anaconda3\\lib\\json\\decoder.py\", line 355, in raw_decode\n",
      "    raise JSONDecodeError(\"Expecting value\", s, err.value) from None\n",
      "json.decoder.JSONDecodeError: Expecting value: line 1 column 1 (char 0)\n",
      "\n",
      "2020-08-27 14:23:42,464 - INFO - downloader - no more download task for thread downloader-001\n",
      "2020-08-27 14:23:42,498 - INFO - downloader - thread downloader-001 exit\n",
      "2020-08-27 14:23:43,469 - INFO - icrawler.crawler - Crawling task done!\n"
     ]
    }
   ],
   "source": [
    "#Qus 15\n",
    "from icrawler.builtin import GoogleImageCrawler\n",
    "google_Crawler = GoogleImageCrawler(storage = {'root_dir': r'C:\\Users\\PRATIK PANIGRAHI\\Desktop\\NLP CLASSES\\google image python\\download\\doctor'})\n",
    "google_Crawler.crawl(keyword = 'doctor', max_num = 50)"
   ]
  },
  {
   "cell_type": "code",
   "execution_count": 4,
   "metadata": {},
   "outputs": [
    {
     "name": "stdout",
     "output_type": "stream",
     "text": [
      "None\n",
      "<h1>Flipkart: The One-stop Shopping Destination</h1>\n"
     ]
    }
   ],
   "source": [
    "#Qus 14\n",
    "from urllib.request import urlopen\n",
    "from urllib.error import HTTPError\n",
    "from bs4 import BeautifulSoup\n",
    "def getTitle(url):\n",
    "    try:\n",
    "        html = urlopen(url)\n",
    "    except HTTPError as e:\n",
    "        return None\n",
    "    try:\n",
    "        bsObj = BeautifulSoup(html.read(), \"lxml\")\n",
    "        title = bsObj.body.h1\n",
    "    except AttributeError as e:\n",
    "        return None\n",
    "    return title\n",
    "    \n",
    "    title = getTitle(url)\n",
    "    if title == None:\n",
    "      return \"Title could not be found\"\n",
    "    else:\n",
    "      return title\n",
    "\n",
    "print(getTitle(\"https://www.google.com/\"))\n",
    "print(getTitle(\"http://www.flipkart.com/\"))"
   ]
  },
  {
   "cell_type": "code",
   "execution_count": null,
   "metadata": {},
   "outputs": [],
   "source": []
  }
 ],
 "metadata": {
  "kernelspec": {
   "display_name": "Python 3",
   "language": "python",
   "name": "python3"
  },
  "language_info": {
   "codemirror_mode": {
    "name": "ipython",
    "version": 3
   },
   "file_extension": ".py",
   "mimetype": "text/x-python",
   "name": "python",
   "nbconvert_exporter": "python",
   "pygments_lexer": "ipython3",
   "version": "3.7.3"
  }
 },
 "nbformat": 4,
 "nbformat_minor": 2
}
